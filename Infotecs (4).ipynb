{
 "cells": [
  {
   "cell_type": "markdown",
   "metadata": {},
   "source": [
    "# Решение тестового задания для стажера на позицию \"Аналитик данных (Data Analyst)\""
   ]
  },
  {
   "cell_type": "markdown",
   "metadata": {},
   "source": [
    "Выполнил: Денисенко Фёдор Владимирович"
   ]
  },
  {
   "cell_type": "markdown",
   "metadata": {},
   "source": [
    "# Задание №1.1"
   ]
  },
  {
   "cell_type": "markdown",
   "metadata": {},
   "source": [
    "Необходимо: Спрогнозировать значение UDP Throughput для сетевого устройства №3, имеющего параметры:\n",
    "- тактовая частота процессора: 2 000 ГГц;\n",
    "- утилизация процессора: 40%;\n",
    "- температура процессора: 54 градуса Цельсия;"
   ]
  },
  {
   "cell_type": "markdown",
   "metadata": {},
   "source": [
    "Решение:"
   ]
  },
  {
   "cell_type": "markdown",
   "metadata": {},
   "source": [
    "Идея решения задания № 1.1 заключается в следующем. С помощью множественной линейной регрессии необходимо предсказать значение зависимой переменной - UDP Throughput, Мбит/с, по известным независимым переменным: параметру утилизации ЦП в %, параметру температуры ЦП с град С и параметру тактовой частоты процессора ГГц. Получается следующая последовательность действий:\n",
    "\n",
    "1). Формирование таблицы со значениями параметров.\n",
    "\n",
    "2). Расчет параметров линейной регрессии, включая коэффициенты угла наклона регрессионной прямой и выбираем наилучшую модель. \n",
    "\n",
    "Для этого нужно:\n",
    "- построить модель со всеми независимыми переменными и найти R^2;\n",
    "- убрать одну из независимых переменных, оставить остальные, снова построить модель и сравнить R^2;\n",
    "- повторять для каждой независимой переменной, выбрать ту модель, у которой R^2 наибольший;\n",
    "- если в выбранной модели число независимых переменных меньше, чем в изначальной, снова повторять процесс уже для найденной модели;\n",
    "- повторять, пока не останется модель с минимальным числом независимых переменных и максимальным R^2.\n",
    "\n",
    "\n",
    "\n",
    "3). Проверка соответствие регрессионной модели условиям применения линейной регрессии. Всего условий пять:\n",
    "- линейная зависимость переменных;\n",
    "- проверка на мультиколлинеарность;\n",
    "- остатки распределены нормально;\n",
    "- переменные распределены нормально, что необязательно при верности предыдущего условия;\n",
    "- отсутствие гетероскедастичности.\n",
    "\n",
    "\n",
    "4). В случае удовлетворения регрессионной модели условиям ее применения, расчет значения UDP Throughput для сетевого устройства №3.\n"
   ]
  },
  {
   "cell_type": "markdown",
   "metadata": {},
   "source": [
    "Загрузка необходимых библиотек."
   ]
  },
  {
   "cell_type": "code",
   "execution_count": 1,
   "metadata": {},
   "outputs": [],
   "source": [
    "import statsmodels.formula.api as smf # библиотека для построения регрессионных моделей\n",
    "import statsmodels.stats.api as sms # библиотека для проверки условий регрессии\n",
    "import pandas as pd # библиотека для работы с датафреймами\n",
    "import matplotlib.pyplot as plt # библиотека для построения графиков\n",
    "import scipy.stats as ss # библиотека статистический функций\n",
    "from statsmodels.compat import lzip # оболочка для проведения теста на гетероскидастичность\n",
    "from statsmodels.stats.outliers_influence import variance_inflation_factor\n",
    "from statsmodels.tools.tools import add_constant\n",
    "import seaborn as sns"
   ]
  },
  {
   "cell_type": "markdown",
   "metadata": {},
   "source": [
    "Обозначения для исследуемых параметров.\n",
    "\n",
    "Y - это значение параметра UDP Throughput, Мбит/с,\n",
    "\n",
    "Xy - это значение параметра утилизации ЦП, %,\n",
    "\n",
    "Xt - это значение температуры ЦП, град С,\n",
    "\n",
    "Xcp - это значение тактовой частоты процессора в ГГц."
   ]
  },
  {
   "cell_type": "markdown",
   "metadata": {},
   "source": [
    "Создание таблицы параметров.\n"
   ]
  },
  {
   "cell_type": "code",
   "execution_count": 2,
   "metadata": {},
   "outputs": [
    {
     "data": {
      "text/html": [
       "<div>\n",
       "<style scoped>\n",
       "    .dataframe tbody tr th:only-of-type {\n",
       "        vertical-align: middle;\n",
       "    }\n",
       "\n",
       "    .dataframe tbody tr th {\n",
       "        vertical-align: top;\n",
       "    }\n",
       "\n",
       "    .dataframe thead th {\n",
       "        text-align: right;\n",
       "    }\n",
       "</style>\n",
       "<table border=\"1\" class=\"dataframe\">\n",
       "  <thead>\n",
       "    <tr style=\"text-align: right;\">\n",
       "      <th></th>\n",
       "      <th>Y</th>\n",
       "      <th>Xy</th>\n",
       "      <th>Xt</th>\n",
       "      <th>Xcp</th>\n",
       "    </tr>\n",
       "  </thead>\n",
       "  <tbody>\n",
       "    <tr>\n",
       "      <th>0</th>\n",
       "      <td>600</td>\n",
       "      <td>50</td>\n",
       "      <td>38</td>\n",
       "      <td>1500</td>\n",
       "    </tr>\n",
       "    <tr>\n",
       "      <th>1</th>\n",
       "      <td>650</td>\n",
       "      <td>55</td>\n",
       "      <td>45</td>\n",
       "      <td>1500</td>\n",
       "    </tr>\n",
       "    <tr>\n",
       "      <th>2</th>\n",
       "      <td>700</td>\n",
       "      <td>60</td>\n",
       "      <td>52</td>\n",
       "      <td>1500</td>\n",
       "    </tr>\n",
       "    <tr>\n",
       "      <th>3</th>\n",
       "      <td>750</td>\n",
       "      <td>65</td>\n",
       "      <td>60</td>\n",
       "      <td>1500</td>\n",
       "    </tr>\n",
       "    <tr>\n",
       "      <th>4</th>\n",
       "      <td>900</td>\n",
       "      <td>70</td>\n",
       "      <td>67</td>\n",
       "      <td>1500</td>\n",
       "    </tr>\n",
       "    <tr>\n",
       "      <th>5</th>\n",
       "      <td>750</td>\n",
       "      <td>35</td>\n",
       "      <td>30</td>\n",
       "      <td>2600</td>\n",
       "    </tr>\n",
       "    <tr>\n",
       "      <th>6</th>\n",
       "      <td>800</td>\n",
       "      <td>40</td>\n",
       "      <td>31</td>\n",
       "      <td>2600</td>\n",
       "    </tr>\n",
       "    <tr>\n",
       "      <th>7</th>\n",
       "      <td>850</td>\n",
       "      <td>45</td>\n",
       "      <td>32</td>\n",
       "      <td>2600</td>\n",
       "    </tr>\n",
       "    <tr>\n",
       "      <th>8</th>\n",
       "      <td>900</td>\n",
       "      <td>50</td>\n",
       "      <td>33</td>\n",
       "      <td>2600</td>\n",
       "    </tr>\n",
       "    <tr>\n",
       "      <th>9</th>\n",
       "      <td>600</td>\n",
       "      <td>30</td>\n",
       "      <td>28</td>\n",
       "      <td>2600</td>\n",
       "    </tr>\n",
       "  </tbody>\n",
       "</table>\n",
       "</div>"
      ],
      "text/plain": [
       "     Y  Xy  Xt   Xcp\n",
       "0  600  50  38  1500\n",
       "1  650  55  45  1500\n",
       "2  700  60  52  1500\n",
       "3  750  65  60  1500\n",
       "4  900  70  67  1500\n",
       "5  750  35  30  2600\n",
       "6  800  40  31  2600\n",
       "7  850  45  32  2600\n",
       "8  900  50  33  2600\n",
       "9  600  30  28  2600"
      ]
     },
     "execution_count": 2,
     "metadata": {},
     "output_type": "execute_result"
    }
   ],
   "source": [
    "data=pd.DataFrame({\n",
    "    'Y':[600,650,700,750,900, 750,800, 850, 900, 600],\\\n",
    "    'Xy':[50,55,60,65,70,35,40,45,50,30],\\\n",
    "    'Xt':[38,45,52,60,67,30,31,32,33,28],\\\n",
    "    'Xcp':[1500,1500,1500,1500, 1500, 2600,2600,2600,2600,2600]})\n",
    "\n",
    "data"
   ]
  },
  {
   "cell_type": "markdown",
   "metadata": {},
   "source": [
    "Подбор регрессионной модели при использовании всех независимых переменных. Итог: R^2 = 0.896.\n",
    "При анализе множественной регрессионной модели нужно обращать внимание на Adjusted R^2, так как обычный R^2 растет вне зависимости от качества множественной регрессионной модели."
   ]
  },
  {
   "cell_type": "code",
   "execution_count": 3,
   "metadata": {},
   "outputs": [
    {
     "name": "stdout",
     "output_type": "stream",
     "text": [
      "                            OLS Regression Results                            \n",
      "==============================================================================\n",
      "Dep. Variable:                      Y   R-squared:                       0.931\n",
      "Model:                            OLS   Adj. R-squared:                  0.896\n",
      "Method:                 Least Squares   F-statistic:                     26.78\n",
      "Date:                Thu, 18 Aug 2022   Prob (F-statistic):           0.000715\n",
      "Time:                        00:15:12   Log-Likelihood:                -47.607\n",
      "No. Observations:                  10   AIC:                             103.2\n",
      "Df Residuals:                       6   BIC:                             104.4\n",
      "Df Model:                           3                                         \n",
      "Covariance Type:            nonrobust                                         \n",
      "==============================================================================\n",
      "                 coef    std err          t      P>|t|      [0.025      0.975]\n",
      "------------------------------------------------------------------------------\n",
      "Intercept   -585.2798    150.640     -3.885      0.008    -953.883    -216.677\n",
      "Xy            13.8179      2.796      4.942      0.003       6.977      20.659\n",
      "Xt             0.2142      2.671      0.080      0.939      -6.320       6.749\n",
      "Xcp            0.3100      0.038      8.153      0.000       0.217       0.403\n",
      "==============================================================================\n",
      "Omnibus:                        1.331   Durbin-Watson:                   1.153\n",
      "Prob(Omnibus):                  0.514   Jarque-Bera (JB):                0.706\n",
      "Skew:                          -0.070   Prob(JB):                        0.703\n",
      "Kurtosis:                       1.706   Cond. No.                     2.77e+04\n",
      "==============================================================================\n",
      "\n",
      "Notes:\n",
      "[1] Standard Errors assume that the covariance matrix of the errors is correctly specified.\n",
      "[2] The condition number is large, 2.77e+04. This might indicate that there are\n",
      "strong multicollinearity or other numerical problems.\n"
     ]
    },
    {
     "name": "stderr",
     "output_type": "stream",
     "text": [
      "/opt/tljh/user/lib/python3.7/site-packages/scipy/stats/stats.py:1542: UserWarning: kurtosistest only valid for n>=20 ... continuing anyway, n=10\n",
      "  \"anyway, n=%i\" % int(n))\n"
     ]
    }
   ],
   "source": [
    "results_1=smf.ols('Y~Xy+Xt+Xcp',data).fit()\n",
    "print(results_1.summary())"
   ]
  },
  {
   "cell_type": "markdown",
   "metadata": {},
   "source": [
    "Подбор регрессионной модели при использовании двух независимых переменных: Xy и Xt. Итог: R^2 = -0.079."
   ]
  },
  {
   "cell_type": "code",
   "execution_count": 4,
   "metadata": {},
   "outputs": [
    {
     "name": "stdout",
     "output_type": "stream",
     "text": [
      "                            OLS Regression Results                            \n",
      "==============================================================================\n",
      "Dep. Variable:                      Y   R-squared:                       0.161\n",
      "Model:                            OLS   Adj. R-squared:                 -0.079\n",
      "Method:                 Least Squares   F-statistic:                    0.6699\n",
      "Date:                Thu, 18 Aug 2022   Prob (F-statistic):              0.542\n",
      "Time:                        00:15:12   Log-Likelihood:                -60.064\n",
      "No. Observations:                  10   AIC:                             126.1\n",
      "Df Residuals:                       7   BIC:                             127.0\n",
      "Df Model:                           2                                         \n",
      "Covariance Type:            nonrobust                                         \n",
      "==============================================================================\n",
      "                 coef    std err          t      P>|t|      [0.025      0.975]\n",
      "------------------------------------------------------------------------------\n",
      "Intercept    563.7144    171.208      3.293      0.013     158.872     968.557\n",
      "Xy             8.8685      8.781      1.010      0.346     -11.896      29.633\n",
      "Xt            -6.1812      8.214     -0.753      0.476     -25.604      13.241\n",
      "==============================================================================\n",
      "Omnibus:                        1.534   Durbin-Watson:                   0.608\n",
      "Prob(Omnibus):                  0.464   Jarque-Bera (JB):                0.862\n",
      "Skew:                          -0.344   Prob(JB):                        0.650\n",
      "Kurtosis:                       1.737   Cond. No.                         311.\n",
      "==============================================================================\n",
      "\n",
      "Notes:\n",
      "[1] Standard Errors assume that the covariance matrix of the errors is correctly specified.\n"
     ]
    },
    {
     "name": "stderr",
     "output_type": "stream",
     "text": [
      "/opt/tljh/user/lib/python3.7/site-packages/scipy/stats/stats.py:1542: UserWarning: kurtosistest only valid for n>=20 ... continuing anyway, n=10\n",
      "  \"anyway, n=%i\" % int(n))\n"
     ]
    }
   ],
   "source": [
    "results_2=smf.ols('Y~Xy+Xt',data).fit()\n",
    "print(results_2.summary())"
   ]
  },
  {
   "cell_type": "markdown",
   "metadata": {},
   "source": [
    "Подбор регрессионной модели при использовании двух независимых переменных: Xy и Xcp. Итог: R^2 = 0.911."
   ]
  },
  {
   "cell_type": "code",
   "execution_count": 5,
   "metadata": {},
   "outputs": [
    {
     "name": "stdout",
     "output_type": "stream",
     "text": [
      "                            OLS Regression Results                            \n",
      "==============================================================================\n",
      "Dep. Variable:                      Y   R-squared:                       0.930\n",
      "Model:                            OLS   Adj. R-squared:                  0.911\n",
      "Method:                 Least Squares   F-statistic:                     46.81\n",
      "Date:                Thu, 18 Aug 2022   Prob (F-statistic):           8.88e-05\n",
      "Time:                        00:15:13   Log-Likelihood:                -47.612\n",
      "No. Observations:                  10   AIC:                             101.2\n",
      "Df Residuals:                       7   BIC:                             102.1\n",
      "Df Model:                           2                                         \n",
      "Covariance Type:            nonrobust                                         \n",
      "==============================================================================\n",
      "                 coef    std err          t      P>|t|      [0.025      0.975]\n",
      "------------------------------------------------------------------------------\n",
      "Intercept   -583.6364    138.243     -4.222      0.004    -910.530    -256.743\n",
      "Xy            14.0000      1.512      9.260      0.000      10.425      17.575\n",
      "Xcp            0.3091      0.034      9.181      0.000       0.229       0.389\n",
      "==============================================================================\n",
      "Omnibus:                        1.347   Durbin-Watson:                   1.150\n",
      "Prob(Omnibus):                  0.510   Jarque-Bera (JB):                0.704\n",
      "Skew:                          -0.000   Prob(JB):                        0.703\n",
      "Kurtosis:                       1.700   Cond. No.                     2.75e+04\n",
      "==============================================================================\n",
      "\n",
      "Notes:\n",
      "[1] Standard Errors assume that the covariance matrix of the errors is correctly specified.\n",
      "[2] The condition number is large, 2.75e+04. This might indicate that there are\n",
      "strong multicollinearity or other numerical problems.\n"
     ]
    },
    {
     "name": "stderr",
     "output_type": "stream",
     "text": [
      "/opt/tljh/user/lib/python3.7/site-packages/scipy/stats/stats.py:1542: UserWarning: kurtosistest only valid for n>=20 ... continuing anyway, n=10\n",
      "  \"anyway, n=%i\" % int(n))\n"
     ]
    }
   ],
   "source": [
    "results_3=smf.ols('Y~Xy+Xcp',data).fit()\n",
    "print(results_3.summary())"
   ]
  },
  {
   "cell_type": "markdown",
   "metadata": {},
   "source": [
    "Подбор регрессионной модели при использовании двух независимых переменных: Xt и Xcp. Итог: R^2 = 0.0547."
   ]
  },
  {
   "cell_type": "code",
   "execution_count": 6,
   "metadata": {},
   "outputs": [
    {
     "name": "stdout",
     "output_type": "stream",
     "text": [
      "                            OLS Regression Results                            \n",
      "==============================================================================\n",
      "Dep. Variable:                      Y   R-squared:                       0.648\n",
      "Model:                            OLS   Adj. R-squared:                  0.547\n",
      "Method:                 Least Squares   F-statistic:                     6.432\n",
      "Date:                Thu, 18 Aug 2022   Prob (F-statistic):             0.0260\n",
      "Time:                        00:15:13   Log-Likelihood:                -55.725\n",
      "No. Observations:                  10   AIC:                             117.4\n",
      "Df Residuals:                       7   BIC:                             118.4\n",
      "Df Model:                           2                                         \n",
      "Covariance Type:            nonrobust                                         \n",
      "==============================================================================\n",
      "                 coef    std err          t      P>|t|      [0.025      0.975]\n",
      "------------------------------------------------------------------------------\n",
      "Intercept   -256.5421    281.790     -0.910      0.393    -922.870     409.785\n",
      "Xt            10.9307      3.250      3.363      0.012       3.245      18.616\n",
      "Xcp            0.2692      0.077      3.479      0.010       0.086       0.452\n",
      "==============================================================================\n",
      "Omnibus:                        4.780   Durbin-Watson:                   1.844\n",
      "Prob(Omnibus):                  0.092   Jarque-Bera (JB):                1.588\n",
      "Skew:                          -0.916   Prob(JB):                        0.452\n",
      "Kurtosis:                       3.677   Cond. No.                     2.49e+04\n",
      "==============================================================================\n",
      "\n",
      "Notes:\n",
      "[1] Standard Errors assume that the covariance matrix of the errors is correctly specified.\n",
      "[2] The condition number is large, 2.49e+04. This might indicate that there are\n",
      "strong multicollinearity or other numerical problems.\n"
     ]
    },
    {
     "name": "stderr",
     "output_type": "stream",
     "text": [
      "/opt/tljh/user/lib/python3.7/site-packages/scipy/stats/stats.py:1542: UserWarning: kurtosistest only valid for n>=20 ... continuing anyway, n=10\n",
      "  \"anyway, n=%i\" % int(n))\n"
     ]
    }
   ],
   "source": [
    "results_4=smf.ols('Y~Xt+Xcp',data).fit()\n",
    "print(results_4.summary())"
   ]
  },
  {
   "cell_type": "markdown",
   "metadata": {},
   "source": [
    "\n",
    "\n",
    "\n",
    "Из четырех моделей лучшей, с наибольшим R^2 оказалась третья по счету модель с двумя независимыми переменными  Xy и Xcp. R^2 = 0.911.\n",
    "\n",
    "Необходимо проверить в этой модели действие каждой независимой переменной в отдельности. Расчет модели для Xy дает R^2 = 0.093\n",
    "(Берется значение R^2, а не Adj. R^2, так как используется всего одна независимая переменная)"
   ]
  },
  {
   "cell_type": "code",
   "execution_count": 7,
   "metadata": {},
   "outputs": [
    {
     "name": "stdout",
     "output_type": "stream",
     "text": [
      "                            OLS Regression Results                            \n",
      "==============================================================================\n",
      "Dep. Variable:                      Y   R-squared:                       0.093\n",
      "Model:                            OLS   Adj. R-squared:                 -0.021\n",
      "Method:                 Least Squares   F-statistic:                    0.8179\n",
      "Date:                Thu, 18 Aug 2022   Prob (F-statistic):              0.392\n",
      "Time:                        00:15:14   Log-Likelihood:                -60.453\n",
      "No. Observations:                  10   AIC:                             124.9\n",
      "Df Residuals:                       8   BIC:                             125.5\n",
      "Df Model:                           1                                         \n",
      "Covariance Type:            nonrobust                                         \n",
      "==============================================================================\n",
      "                 coef    std err          t      P>|t|      [0.025      0.975]\n",
      "------------------------------------------------------------------------------\n",
      "Intercept    616.6667    151.790      4.063      0.004     266.638     966.696\n",
      "Xy             2.6667      2.949      0.904      0.392      -4.133       9.466\n",
      "==============================================================================\n",
      "Omnibus:                        3.154   Durbin-Watson:                   0.870\n",
      "Prob(Omnibus):                  0.207   Jarque-Bera (JB):                0.986\n",
      "Skew:                           0.000   Prob(JB):                        0.611\n",
      "Kurtosis:                       1.462   Cond. No.                         216.\n",
      "==============================================================================\n",
      "\n",
      "Notes:\n",
      "[1] Standard Errors assume that the covariance matrix of the errors is correctly specified.\n"
     ]
    },
    {
     "name": "stderr",
     "output_type": "stream",
     "text": [
      "/opt/tljh/user/lib/python3.7/site-packages/scipy/stats/stats.py:1542: UserWarning: kurtosistest only valid for n>=20 ... continuing anyway, n=10\n",
      "  \"anyway, n=%i\" % int(n))\n"
     ]
    }
   ],
   "source": [
    "results_5=smf.ols('Y~Xy',data).fit()\n",
    "print(results_5.summary())"
   ]
  },
  {
   "cell_type": "markdown",
   "metadata": {},
   "source": [
    "Расчет модели для Xср дает R^2 = 0.078"
   ]
  },
  {
   "cell_type": "code",
   "execution_count": 8,
   "metadata": {},
   "outputs": [
    {
     "name": "stdout",
     "output_type": "stream",
     "text": [
      "                            OLS Regression Results                            \n",
      "==============================================================================\n",
      "Dep. Variable:                      Y   R-squared:                       0.078\n",
      "Model:                            OLS   Adj. R-squared:                 -0.037\n",
      "Method:                 Least Squares   F-statistic:                    0.6792\n",
      "Date:                Thu, 18 Aug 2022   Prob (F-statistic):              0.434\n",
      "Time:                        00:15:14   Log-Likelihood:                -60.532\n",
      "No. Observations:                  10   AIC:                             125.1\n",
      "Df Residuals:                       8   BIC:                             125.7\n",
      "Df Model:                           1                                         \n",
      "Covariance Type:            nonrobust                                         \n",
      "==============================================================================\n",
      "                 coef    std err          t      P>|t|      [0.025      0.975]\n",
      "------------------------------------------------------------------------------\n",
      "Intercept    638.1818    140.473      4.543      0.002     314.251     962.113\n",
      "Xcp            0.0545      0.066      0.824      0.434      -0.098       0.207\n",
      "==============================================================================\n",
      "Omnibus:                        1.052   Durbin-Watson:                   1.619\n",
      "Prob(Omnibus):                  0.591   Jarque-Bera (JB):                0.215\n",
      "Skew:                           0.000   Prob(JB):                        0.898\n",
      "Kurtosis:                       2.282   Cond. No.                     8.19e+03\n",
      "==============================================================================\n",
      "\n",
      "Notes:\n",
      "[1] Standard Errors assume that the covariance matrix of the errors is correctly specified.\n",
      "[2] The condition number is large, 8.19e+03. This might indicate that there are\n",
      "strong multicollinearity or other numerical problems.\n"
     ]
    },
    {
     "name": "stderr",
     "output_type": "stream",
     "text": [
      "/opt/tljh/user/lib/python3.7/site-packages/scipy/stats/stats.py:1542: UserWarning: kurtosistest only valid for n>=20 ... continuing anyway, n=10\n",
      "  \"anyway, n=%i\" % int(n))\n"
     ]
    }
   ],
   "source": [
    "results_6=smf.ols('Y~Xcp',data).fit()\n",
    "print(results_6.summary())"
   ]
  },
  {
   "cell_type": "markdown",
   "metadata": {},
   "source": [
    "R^2 моделей с одной независимой переменной оказался меньше, чем третья по счету модель с двумя независимыми переменными Xy и Xcp и R^2 = 0.911."
   ]
  },
  {
   "cell_type": "markdown",
   "metadata": {},
   "source": [
    "Выбранная модель с наиболее удачными коэффициентами будет выглядеть так: Y=14Xy+0.3091Xcp-583.6364"
   ]
  },
  {
   "cell_type": "markdown",
   "metadata": {},
   "source": [
    "Проверка выполнения условий применения регрессии."
   ]
  },
  {
   "cell_type": "code",
   "execution_count": 9,
   "metadata": {},
   "outputs": [
    {
     "ename": "SyntaxError",
     "evalue": "invalid syntax (<ipython-input-9-3b2044931dea>, line 1)",
     "output_type": "error",
     "traceback": [
      "\u001b[0;36m  File \u001b[0;32m\"<ipython-input-9-3b2044931dea>\"\u001b[0;36m, line \u001b[0;32m1\u001b[0m\n\u001b[0;31m    линейная зависимость переменных;\u001b[0m\n\u001b[0m                       ^\u001b[0m\n\u001b[0;31mSyntaxError\u001b[0m\u001b[0;31m:\u001b[0m invalid syntax\n"
     ]
    }
   ],
   "source": [
    "линейная зависимость переменных;\n",
    "проверка на мультиколлинеарность.\n",
    "остатки распределены нормально;\n",
    "переменные распределены нормально, что необязательно при верности предыдущего условия;\n",
    "отсутствие гетероскедастичности;\n"
   ]
  },
  {
   "cell_type": "markdown",
   "metadata": {},
   "source": [
    "Линейная зависимость переменных отражается качеством рассчитанной модели, а именно значением R^2, близкое к 1. Значит линейная зависимость наблиюдается и первое условие выполненно."
   ]
  },
  {
   "cell_type": "markdown",
   "metadata": {},
   "source": [
    "Далее производится оценка коллинеарности между переменными с помощью коэффициента инфляции дисперсии (VIF) для проверки второго условия."
   ]
  },
  {
   "cell_type": "code",
   "execution_count": 10,
   "metadata": {},
   "outputs": [
    {
     "data": {
      "text/plain": [
       "const    170.375523\n",
       "Xy         8.803213\n",
       "Xt         9.180187\n",
       "Xcp        3.283266\n",
       "dtype: float64"
      ]
     },
     "execution_count": 10,
     "metadata": {},
     "output_type": "execute_result"
    }
   ],
   "source": [
    "# Добавление константы происходит, так как в матрице независимых переменных функция variance_inflation_factor \n",
    "#ожидает столбец с константами\n",
    "X = add_constant(data.drop(axis=1, labels='Y'))\n",
    "pd.Series([variance_inflation_factor(X.values, i) \n",
    "for i in range(X.shape[1])], index=X.columns)"
   ]
  },
  {
   "cell_type": "markdown",
   "metadata": {},
   "source": [
    "Получено значения VIF (коэффициента инфляции дисперсии). Обычно ориентируются на превышения VIF числа 10. При превышении убирают переменную из модели и качество предсказательной регрессионной модели повышается. В данном случае у двух переменных из трёх наблюдается значение близкое к 10, но не превышающее его. Убрав две независимые переменные из трёх, мы потеряем смысл от модели, поэтому принимается решение оставить все независимые переменные. Модель удовлетворяет условиям мильтиколлиниарности и второе условие выполнено."
   ]
  },
  {
   "cell_type": "markdown",
   "metadata": {},
   "source": [
    "Проверка третьего условия на нормальность распределения остатков начинается с нахождения остатков путем подставления найденных коэффициентов в линейное уравнение и расчета разнице между смоделированными значениями и фактическими. Затем, с помощью функции normaltest библиотеки scipy подтверждается нормальность распределения остатков. Нулевая гипотеза этой функции - распределение нормально. По значениию p-value = 0.51 видно, что статистически распределение остатков нормальное. Третье условие выполнено, а значит четвертое, можно не проверять. Остается пятое.\n"
   ]
  },
  {
   "cell_type": "code",
   "execution_count": 11,
   "metadata": {},
   "outputs": [
    {
     "data": {
      "text/html": [
       "<div>\n",
       "<style scoped>\n",
       "    .dataframe tbody tr th:only-of-type {\n",
       "        vertical-align: middle;\n",
       "    }\n",
       "\n",
       "    .dataframe tbody tr th {\n",
       "        vertical-align: top;\n",
       "    }\n",
       "\n",
       "    .dataframe thead th {\n",
       "        text-align: right;\n",
       "    }\n",
       "</style>\n",
       "<table border=\"1\" class=\"dataframe\">\n",
       "  <thead>\n",
       "    <tr style=\"text-align: right;\">\n",
       "      <th></th>\n",
       "      <th>Y</th>\n",
       "      <th>Xy</th>\n",
       "      <th>Xt</th>\n",
       "      <th>Xcp</th>\n",
       "      <th>after_regresia</th>\n",
       "      <th>difference</th>\n",
       "    </tr>\n",
       "  </thead>\n",
       "  <tbody>\n",
       "    <tr>\n",
       "      <th>0</th>\n",
       "      <td>600</td>\n",
       "      <td>50</td>\n",
       "      <td>38</td>\n",
       "      <td>1500</td>\n",
       "      <td>580.0136</td>\n",
       "      <td>19.9864</td>\n",
       "    </tr>\n",
       "    <tr>\n",
       "      <th>1</th>\n",
       "      <td>650</td>\n",
       "      <td>55</td>\n",
       "      <td>45</td>\n",
       "      <td>1500</td>\n",
       "      <td>650.0136</td>\n",
       "      <td>-0.0136</td>\n",
       "    </tr>\n",
       "    <tr>\n",
       "      <th>2</th>\n",
       "      <td>700</td>\n",
       "      <td>60</td>\n",
       "      <td>52</td>\n",
       "      <td>1500</td>\n",
       "      <td>720.0136</td>\n",
       "      <td>-20.0136</td>\n",
       "    </tr>\n",
       "    <tr>\n",
       "      <th>3</th>\n",
       "      <td>750</td>\n",
       "      <td>65</td>\n",
       "      <td>60</td>\n",
       "      <td>1500</td>\n",
       "      <td>790.0136</td>\n",
       "      <td>-40.0136</td>\n",
       "    </tr>\n",
       "    <tr>\n",
       "      <th>4</th>\n",
       "      <td>900</td>\n",
       "      <td>70</td>\n",
       "      <td>67</td>\n",
       "      <td>1500</td>\n",
       "      <td>860.0136</td>\n",
       "      <td>39.9864</td>\n",
       "    </tr>\n",
       "    <tr>\n",
       "      <th>5</th>\n",
       "      <td>750</td>\n",
       "      <td>35</td>\n",
       "      <td>30</td>\n",
       "      <td>2600</td>\n",
       "      <td>710.0236</td>\n",
       "      <td>39.9764</td>\n",
       "    </tr>\n",
       "    <tr>\n",
       "      <th>6</th>\n",
       "      <td>800</td>\n",
       "      <td>40</td>\n",
       "      <td>31</td>\n",
       "      <td>2600</td>\n",
       "      <td>780.0236</td>\n",
       "      <td>19.9764</td>\n",
       "    </tr>\n",
       "    <tr>\n",
       "      <th>7</th>\n",
       "      <td>850</td>\n",
       "      <td>45</td>\n",
       "      <td>32</td>\n",
       "      <td>2600</td>\n",
       "      <td>850.0236</td>\n",
       "      <td>-0.0236</td>\n",
       "    </tr>\n",
       "    <tr>\n",
       "      <th>8</th>\n",
       "      <td>900</td>\n",
       "      <td>50</td>\n",
       "      <td>33</td>\n",
       "      <td>2600</td>\n",
       "      <td>920.0236</td>\n",
       "      <td>-20.0236</td>\n",
       "    </tr>\n",
       "    <tr>\n",
       "      <th>9</th>\n",
       "      <td>600</td>\n",
       "      <td>30</td>\n",
       "      <td>28</td>\n",
       "      <td>2600</td>\n",
       "      <td>640.0236</td>\n",
       "      <td>-40.0236</td>\n",
       "    </tr>\n",
       "  </tbody>\n",
       "</table>\n",
       "</div>"
      ],
      "text/plain": [
       "     Y  Xy  Xt   Xcp  after_regresia  difference\n",
       "0  600  50  38  1500        580.0136     19.9864\n",
       "1  650  55  45  1500        650.0136     -0.0136\n",
       "2  700  60  52  1500        720.0136    -20.0136\n",
       "3  750  65  60  1500        790.0136    -40.0136\n",
       "4  900  70  67  1500        860.0136     39.9864\n",
       "5  750  35  30  2600        710.0236     39.9764\n",
       "6  800  40  31  2600        780.0236     19.9764\n",
       "7  850  45  32  2600        850.0236     -0.0236\n",
       "8  900  50  33  2600        920.0236    -20.0236\n",
       "9  600  30  28  2600        640.0236    -40.0236"
      ]
     },
     "execution_count": 11,
     "metadata": {},
     "output_type": "execute_result"
    }
   ],
   "source": [
    "data1=data\n",
    "data1['after_regresia'] = -583.6364 + data1.Xy*14 + data1.Xcp*0.3091\n",
    "data1[\"difference\"]=data1.Y-data1.after_regresia\n",
    "data1"
   ]
  },
  {
   "cell_type": "code",
   "execution_count": 12,
   "metadata": {},
   "outputs": [
    {
     "name": "stderr",
     "output_type": "stream",
     "text": [
      "/opt/tljh/user/lib/python3.7/site-packages/scipy/stats/stats.py:1542: UserWarning: kurtosistest only valid for n>=20 ... continuing anyway, n=10\n",
      "  \"anyway, n=%i\" % int(n))\n"
     ]
    },
    {
     "data": {
      "text/plain": [
       "NormaltestResult(statistic=1.3465797293405926, pvalue=0.510027891945348)"
      ]
     },
     "execution_count": 12,
     "metadata": {},
     "output_type": "execute_result"
    }
   ],
   "source": [
    "ss.normaltest(data[\"difference\"])"
   ]
  },
  {
   "cell_type": "markdown",
   "metadata": {},
   "source": [
    "Проверка на гетероскидастичность проводится с помощью теста Голдфелда-Куандта. Его нулевая гипотеза - отсутствие гетероскидастичности. Значение p-value получилось 0.5, а значит статистически значимой гетероскидатичности нет. Пятое условие выполнено."
   ]
  },
  {
   "cell_type": "code",
   "execution_count": 13,
   "metadata": {},
   "outputs": [
    {
     "data": {
      "text/plain": [
       "[('F statistic', 0.9999999999999997), ('p-value', 0.5000000000000003)]"
      ]
     },
     "execution_count": 13,
     "metadata": {},
     "output_type": "execute_result"
    }
   ],
   "source": [
    "name=[\"F statistic\", \"p-value\"]\n",
    "test=sms.het_goldfeldquandt(results_3.resid, results_3.model.exog)\n",
    "lzip(name, test)"
   ]
  },
  {
   "cell_type": "markdown",
   "metadata": {},
   "source": [
    "Условия использования множественной линейной регресии выполнены. Теперь можно применять полученные коэффициенты из регрессионной модели для расчета UDP Throghput. При этом в модели отсутствует коэффициент для параметра температуры в виду низкой корреляции температуры и UDP Theoghput."
   ]
  },
  {
   "cell_type": "code",
   "execution_count": 14,
   "metadata": {},
   "outputs": [
    {
     "data": {
      "text/plain": [
       "594.5636"
      ]
     },
     "execution_count": 14,
     "metadata": {},
     "output_type": "execute_result"
    }
   ],
   "source": [
    "UDP_2000_GGc=-583.6364+40*14+2000*0.3091\n",
    "UDP_2000_GGc"
   ]
  },
  {
   "cell_type": "markdown",
   "metadata": {},
   "source": [
    "Ответ: \n",
    "\n",
    "Значение UDP Throghput для сетевого устройства №3 равно 594 Мбит/с"
   ]
  },
  {
   "cell_type": "markdown",
   "metadata": {},
   "source": [
    "# Задание № 1.2"
   ]
  },
  {
   "cell_type": "markdown",
   "metadata": {},
   "source": [
    "Необходимо: спрогнозировать значения утилизации ЦП и температуры ЦП сетевого устройства №4 с тактовой частотой 1 700 ГГц для значений UDP Thtoughput."
   ]
  },
  {
   "cell_type": "markdown",
   "metadata": {},
   "source": [
    "Решение:\n"
   ]
  },
  {
   "cell_type": "markdown",
   "metadata": {},
   "source": [
    "Идея решения задания № 1.2 заключается в следующем. Значения утилизации ЦП находятся по формуле регрессии. Значения температуры находятся подругому, так как они слабо коррелируют с UDP Througput.  Раз имеются значения температуры для тактовой частоты 1500 ГГц и для 2600 ГГц, значит можно узнать зависимости только температуры ЦП от UDP Througput. Если это две линейные зависимости, то можно построить третью линию между известными двумя для 1500 ГГц и 2600 ГГц, которая будет соответствовать 1700 ГГц. Точки на этой линии будут соответствовать значениям температуры ЦП при каждом значении UDP Througput. Получается следующая последовательность действий:\n",
    "\n",
    "1). Рассчитывается утилизация ЦП по коэффициентам из регрессионной модели для каждого значения UDP Througput при 1700 ГГц.\n",
    "\n",
    "2). Находятся коэффициенты регрессии для сетевого устройства № 1 (1500 ГГц) и для сетевого устройства № 2 (2600 ГГц).\n",
    "\n",
    "3). Вычисляются значения температуры ЦП для устройств № 1 и № 2 в точках 400 Мбит/с и 500 Мбит/с.\n",
    "\n",
    "4). Вычисляются значения температуры ЦП для устройства № 4 в точках 400 Мбит/с и 500 Мбит/с.\n",
    "\n",
    "5). Находятся коэффициенты регрессии для сетевого устройства № 4.\n",
    "\n",
    "6). Вычисляются значения температуры для сетевого устройства № 4 при каждом значении UDP Througput.\n",
    "\n"
   ]
  },
  {
   "cell_type": "markdown",
   "metadata": {},
   "source": [
    "Обозначения для исследуемых параметров те же, что и в предыдущем задании.\n",
    "\n",
    "Y - это значение параметра UDP Throughput, Мбит/с,\n",
    "\n",
    "Xy - это значение параметра утилизации ЦП, %,\n",
    "\n",
    "Xt - это значение температуры ЦП, град С,\n",
    "\n",
    "Xcp - это значение тактовой частоты процессора в ГГц."
   ]
  },
  {
   "cell_type": "markdown",
   "metadata": {},
   "source": [
    "Известные параметры UDP Throughput, Мбит/с представлены в листе Y"
   ]
  },
  {
   "cell_type": "code",
   "execution_count": 15,
   "metadata": {},
   "outputs": [
    {
     "data": {
      "text/plain": [
       "(50, 100, 150, 200, 250, 300, 350, 400, 450, 500)"
      ]
     },
     "execution_count": 15,
     "metadata": {},
     "output_type": "execute_result"
    }
   ],
   "source": [
    "Y=(50, 100, 150, 200, 250, 300, 350, 400, 450, 500)\n",
    "Y"
   ]
  },
  {
   "cell_type": "markdown",
   "metadata": {},
   "source": [
    "На этом шаге рассчитывается утилизация ЦП по коэффициентам из регрессионной модели для каждого значения UDP Througput при 1700 ГГц. Уравнение составлено с одной независимой переменной на основе регрессионной модели из задания 1.1, где  Y=14Xy+0.3091Xcp-583.6364"
   ]
  },
  {
   "cell_type": "code",
   "execution_count": 16,
   "metadata": {},
   "outputs": [
    {
     "data": {
      "text/html": [
       "<div>\n",
       "<style scoped>\n",
       "    .dataframe tbody tr th:only-of-type {\n",
       "        vertical-align: middle;\n",
       "    }\n",
       "\n",
       "    .dataframe tbody tr th {\n",
       "        vertical-align: top;\n",
       "    }\n",
       "\n",
       "    .dataframe thead th {\n",
       "        text-align: right;\n",
       "    }\n",
       "</style>\n",
       "<table border=\"1\" class=\"dataframe\">\n",
       "  <thead>\n",
       "    <tr style=\"text-align: right;\">\n",
       "      <th></th>\n",
       "      <th>Y</th>\n",
       "      <th>Xcp</th>\n",
       "      <th>Xy</th>\n",
       "    </tr>\n",
       "  </thead>\n",
       "  <tbody>\n",
       "    <tr>\n",
       "      <th>0</th>\n",
       "      <td>50.0</td>\n",
       "      <td>1700.0</td>\n",
       "      <td>7.726171</td>\n",
       "    </tr>\n",
       "    <tr>\n",
       "      <th>1</th>\n",
       "      <td>100.0</td>\n",
       "      <td>1700.0</td>\n",
       "      <td>11.297600</td>\n",
       "    </tr>\n",
       "    <tr>\n",
       "      <th>2</th>\n",
       "      <td>150.0</td>\n",
       "      <td>1700.0</td>\n",
       "      <td>14.869029</td>\n",
       "    </tr>\n",
       "    <tr>\n",
       "      <th>3</th>\n",
       "      <td>200.0</td>\n",
       "      <td>1700.0</td>\n",
       "      <td>18.440457</td>\n",
       "    </tr>\n",
       "    <tr>\n",
       "      <th>4</th>\n",
       "      <td>250.0</td>\n",
       "      <td>1700.0</td>\n",
       "      <td>22.011886</td>\n",
       "    </tr>\n",
       "    <tr>\n",
       "      <th>5</th>\n",
       "      <td>300.0</td>\n",
       "      <td>1700.0</td>\n",
       "      <td>25.583314</td>\n",
       "    </tr>\n",
       "    <tr>\n",
       "      <th>6</th>\n",
       "      <td>350.0</td>\n",
       "      <td>1700.0</td>\n",
       "      <td>29.154743</td>\n",
       "    </tr>\n",
       "    <tr>\n",
       "      <th>7</th>\n",
       "      <td>400.0</td>\n",
       "      <td>1700.0</td>\n",
       "      <td>32.726171</td>\n",
       "    </tr>\n",
       "    <tr>\n",
       "      <th>8</th>\n",
       "      <td>450.0</td>\n",
       "      <td>1700.0</td>\n",
       "      <td>36.297600</td>\n",
       "    </tr>\n",
       "    <tr>\n",
       "      <th>9</th>\n",
       "      <td>500.0</td>\n",
       "      <td>1700.0</td>\n",
       "      <td>39.869029</td>\n",
       "    </tr>\n",
       "  </tbody>\n",
       "</table>\n",
       "</div>"
      ],
      "text/plain": [
       "       Y     Xcp         Xy\n",
       "0   50.0  1700.0   7.726171\n",
       "1  100.0  1700.0  11.297600\n",
       "2  150.0  1700.0  14.869029\n",
       "3  200.0  1700.0  18.440457\n",
       "4  250.0  1700.0  22.011886\n",
       "5  300.0  1700.0  25.583314\n",
       "6  350.0  1700.0  29.154743\n",
       "7  400.0  1700.0  32.726171\n",
       "8  450.0  1700.0  36.297600\n",
       "9  500.0  1700.0  39.869029"
      ]
     },
     "execution_count": 16,
     "metadata": {},
     "output_type": "execute_result"
    }
   ],
   "source": [
    "data_Xy = pd.DataFrame(columns = ['Y','Xcp','Xy'])\n",
    "for i in Y:\n",
    "    Xy=(i - 0.3091*1700-(-583.6364) )/14\n",
    "    data_Xy = data_Xy.append({'Xy':Xy,'Xcp':1700,'Y':i}, ignore_index=True)\n",
    "data_Xy"
   ]
  },
  {
   "cell_type": "markdown",
   "metadata": {},
   "source": [
    "Далее идет подготовка данных для построения регрессионной модели для каждого сетевого устройства. Эта регрессионная модель будет иметь только один предикат: температуру ЦП. Получается зависимость UDP Throughput от температуры ЦП. Ниже представлены две таблицы: regressia_1500 для сетевого устройства № 1, regressia_2600 для сетевого устройства № 2."
   ]
  },
  {
   "cell_type": "code",
   "execution_count": 17,
   "metadata": {},
   "outputs": [
    {
     "data": {
      "text/html": [
       "<div>\n",
       "<style scoped>\n",
       "    .dataframe tbody tr th:only-of-type {\n",
       "        vertical-align: middle;\n",
       "    }\n",
       "\n",
       "    .dataframe tbody tr th {\n",
       "        vertical-align: top;\n",
       "    }\n",
       "\n",
       "    .dataframe thead th {\n",
       "        text-align: right;\n",
       "    }\n",
       "</style>\n",
       "<table border=\"1\" class=\"dataframe\">\n",
       "  <thead>\n",
       "    <tr style=\"text-align: right;\">\n",
       "      <th></th>\n",
       "      <th>Y</th>\n",
       "      <th>Xt_1500</th>\n",
       "    </tr>\n",
       "  </thead>\n",
       "  <tbody>\n",
       "    <tr>\n",
       "      <th>0</th>\n",
       "      <td>600</td>\n",
       "      <td>38</td>\n",
       "    </tr>\n",
       "    <tr>\n",
       "      <th>1</th>\n",
       "      <td>650</td>\n",
       "      <td>45</td>\n",
       "    </tr>\n",
       "    <tr>\n",
       "      <th>2</th>\n",
       "      <td>700</td>\n",
       "      <td>52</td>\n",
       "    </tr>\n",
       "    <tr>\n",
       "      <th>3</th>\n",
       "      <td>750</td>\n",
       "      <td>60</td>\n",
       "    </tr>\n",
       "    <tr>\n",
       "      <th>4</th>\n",
       "      <td>900</td>\n",
       "      <td>67</td>\n",
       "    </tr>\n",
       "  </tbody>\n",
       "</table>\n",
       "</div>"
      ],
      "text/plain": [
       "     Y  Xt_1500\n",
       "0  600       38\n",
       "1  650       45\n",
       "2  700       52\n",
       "3  750       60\n",
       "4  900       67"
      ]
     },
     "execution_count": 17,
     "metadata": {},
     "output_type": "execute_result"
    }
   ],
   "source": [
    "regressia_1500=pd.DataFrame({\n",
    "    'Y':data.Y.head(5),\\\n",
    "    'Xt_1500':data.Xt.head(5)})\n",
    "regressia_1500"
   ]
  },
  {
   "cell_type": "code",
   "execution_count": 18,
   "metadata": {},
   "outputs": [
    {
     "data": {
      "text/html": [
       "<div>\n",
       "<style scoped>\n",
       "    .dataframe tbody tr th:only-of-type {\n",
       "        vertical-align: middle;\n",
       "    }\n",
       "\n",
       "    .dataframe tbody tr th {\n",
       "        vertical-align: top;\n",
       "    }\n",
       "\n",
       "    .dataframe thead th {\n",
       "        text-align: right;\n",
       "    }\n",
       "</style>\n",
       "<table border=\"1\" class=\"dataframe\">\n",
       "  <thead>\n",
       "    <tr style=\"text-align: right;\">\n",
       "      <th></th>\n",
       "      <th>Y</th>\n",
       "      <th>Xt_2600</th>\n",
       "    </tr>\n",
       "  </thead>\n",
       "  <tbody>\n",
       "    <tr>\n",
       "      <th>5</th>\n",
       "      <td>750</td>\n",
       "      <td>30</td>\n",
       "    </tr>\n",
       "    <tr>\n",
       "      <th>6</th>\n",
       "      <td>800</td>\n",
       "      <td>31</td>\n",
       "    </tr>\n",
       "    <tr>\n",
       "      <th>7</th>\n",
       "      <td>850</td>\n",
       "      <td>32</td>\n",
       "    </tr>\n",
       "    <tr>\n",
       "      <th>8</th>\n",
       "      <td>900</td>\n",
       "      <td>33</td>\n",
       "    </tr>\n",
       "    <tr>\n",
       "      <th>9</th>\n",
       "      <td>600</td>\n",
       "      <td>28</td>\n",
       "    </tr>\n",
       "  </tbody>\n",
       "</table>\n",
       "</div>"
      ],
      "text/plain": [
       "     Y  Xt_2600\n",
       "5  750       30\n",
       "6  800       31\n",
       "7  850       32\n",
       "8  900       33\n",
       "9  600       28"
      ]
     },
     "execution_count": 18,
     "metadata": {},
     "output_type": "execute_result"
    }
   ],
   "source": [
    "regressia_2600=pd.DataFrame({\n",
    "    'Y':data.Y.tail(5),\\\n",
    "    'Xt_2600':data.Xt.tail(5)})\n",
    "regressia_2600"
   ]
  },
  {
   "cell_type": "markdown",
   "metadata": {},
   "source": [
    "Далее необходимо посроить регрессионную модель для № 1 и № 2 сетевых устройств, к которой применяются уже менне жесткие требования, нежели для множественной регрессии."
   ]
  },
  {
   "cell_type": "code",
   "execution_count": 19,
   "metadata": {},
   "outputs": [
    {
     "name": "stdout",
     "output_type": "stream",
     "text": [
      "                            OLS Regression Results                            \n",
      "==============================================================================\n",
      "Dep. Variable:                      Y   R-squared:                       0.924\n",
      "Model:                            OLS   Adj. R-squared:                  0.899\n",
      "Method:                 Least Squares   F-statistic:                     36.48\n",
      "Date:                Thu, 18 Aug 2022   Prob (F-statistic):            0.00910\n",
      "Time:                        00:15:21   Log-Likelihood:                -23.823\n",
      "No. Observations:                   5   AIC:                             51.65\n",
      "Df Residuals:                       3   BIC:                             50.87\n",
      "Df Model:                           1                                         \n",
      "Covariance Type:            nonrobust                                         \n",
      "==============================================================================\n",
      "                 coef    std err          t      P>|t|      [0.025      0.975]\n",
      "------------------------------------------------------------------------------\n",
      "Intercept    217.8170     84.746      2.570      0.082     -51.884     487.518\n",
      "Xt             9.5836      1.587      6.040      0.009       4.534      14.633\n",
      "==============================================================================\n",
      "Omnibus:                          nan   Durbin-Watson:                   2.028\n",
      "Prob(Omnibus):                    nan   Jarque-Bera (JB):                0.268\n",
      "Skew:                          -0.110   Prob(JB):                        0.874\n",
      "Kurtosis:                       1.887   Cond. No.                         276.\n",
      "==============================================================================\n",
      "\n",
      "Notes:\n",
      "[1] Standard Errors assume that the covariance matrix of the errors is correctly specified.\n"
     ]
    },
    {
     "name": "stderr",
     "output_type": "stream",
     "text": [
      "/opt/tljh/user/lib/python3.7/site-packages/statsmodels/stats/stattools.py:75: ValueWarning: omni_normtest is not valid with less than 8 observations; 5 samples were given.\n",
      "  \"samples were given.\" % int(n), ValueWarning)\n"
     ]
    }
   ],
   "source": [
    "#регрессия только от температуры для 1500 ГГЦ\n",
    "results=smf.ols('Y~Xt',data.head(5)).fit()\n",
    "print(results.summary())"
   ]
  },
  {
   "cell_type": "code",
   "execution_count": 20,
   "metadata": {},
   "outputs": [
    {
     "name": "stdout",
     "output_type": "stream",
     "text": [
      "                            OLS Regression Results                            \n",
      "==============================================================================\n",
      "Dep. Variable:                      Y   R-squared:                       0.987\n",
      "Model:                            OLS   Adj. R-squared:                  0.983\n",
      "Method:                 Least Squares   F-statistic:                     232.3\n",
      "Date:                Thu, 18 Aug 2022   Prob (F-statistic):           0.000613\n",
      "Time:                        00:15:21   Log-Likelihood:                -19.360\n",
      "No. Observations:                   5   AIC:                             42.72\n",
      "Df Residuals:                       3   BIC:                             41.94\n",
      "Df Model:                           1                                         \n",
      "Covariance Type:            nonrobust                                         \n",
      "==============================================================================\n",
      "                 coef    std err          t      P>|t|      [0.025      0.975]\n",
      "------------------------------------------------------------------------------\n",
      "Intercept  -1051.3514    120.339     -8.737      0.003   -1434.322    -668.380\n",
      "Xt            59.4595      3.901     15.242      0.001      47.045      71.874\n",
      "==============================================================================\n",
      "Omnibus:                          nan   Durbin-Watson:                   0.408\n",
      "Prob(Omnibus):                    nan   Jarque-Bera (JB):                0.472\n",
      "Skew:                           0.283   Prob(JB):                        0.790\n",
      "Kurtosis:                       1.605   Cond. No.                         554.\n",
      "==============================================================================\n",
      "\n",
      "Notes:\n",
      "[1] Standard Errors assume that the covariance matrix of the errors is correctly specified.\n"
     ]
    },
    {
     "name": "stderr",
     "output_type": "stream",
     "text": [
      "/opt/tljh/user/lib/python3.7/site-packages/statsmodels/stats/stattools.py:75: ValueWarning: omni_normtest is not valid with less than 8 observations; 5 samples were given.\n",
      "  \"samples were given.\" % int(n), ValueWarning)\n"
     ]
    }
   ],
   "source": [
    "#регрессия только от температуры для 2600 ГГц\n",
    "results=smf.ols('Y~Xt',data.tail(5)).fit()\n",
    "print(results.summary())"
   ]
  },
  {
   "cell_type": "markdown",
   "metadata": {},
   "source": [
    "Далее производится вычисление UDP для каждого значения Xt для проверки корректности модели. Действительно значения Y и Y(Xt) близки"
   ]
  },
  {
   "cell_type": "code",
   "execution_count": 21,
   "metadata": {},
   "outputs": [
    {
     "data": {
      "text/html": [
       "<div>\n",
       "<style scoped>\n",
       "    .dataframe tbody tr th:only-of-type {\n",
       "        vertical-align: middle;\n",
       "    }\n",
       "\n",
       "    .dataframe tbody tr th {\n",
       "        vertical-align: top;\n",
       "    }\n",
       "\n",
       "    .dataframe thead th {\n",
       "        text-align: right;\n",
       "    }\n",
       "</style>\n",
       "<table border=\"1\" class=\"dataframe\">\n",
       "  <thead>\n",
       "    <tr style=\"text-align: right;\">\n",
       "      <th></th>\n",
       "      <th>Y</th>\n",
       "      <th>Xt_1500</th>\n",
       "      <th>Y(Xt)</th>\n",
       "    </tr>\n",
       "  </thead>\n",
       "  <tbody>\n",
       "    <tr>\n",
       "      <th>0</th>\n",
       "      <td>600</td>\n",
       "      <td>38</td>\n",
       "      <td>581.9938</td>\n",
       "    </tr>\n",
       "    <tr>\n",
       "      <th>1</th>\n",
       "      <td>650</td>\n",
       "      <td>45</td>\n",
       "      <td>649.0790</td>\n",
       "    </tr>\n",
       "    <tr>\n",
       "      <th>2</th>\n",
       "      <td>700</td>\n",
       "      <td>52</td>\n",
       "      <td>716.1642</td>\n",
       "    </tr>\n",
       "    <tr>\n",
       "      <th>3</th>\n",
       "      <td>750</td>\n",
       "      <td>60</td>\n",
       "      <td>792.8330</td>\n",
       "    </tr>\n",
       "    <tr>\n",
       "      <th>4</th>\n",
       "      <td>900</td>\n",
       "      <td>67</td>\n",
       "      <td>859.9182</td>\n",
       "    </tr>\n",
       "  </tbody>\n",
       "</table>\n",
       "</div>"
      ],
      "text/plain": [
       "     Y  Xt_1500     Y(Xt)\n",
       "0  600       38  581.9938\n",
       "1  650       45  649.0790\n",
       "2  700       52  716.1642\n",
       "3  750       60  792.8330\n",
       "4  900       67  859.9182"
      ]
     },
     "execution_count": 21,
     "metadata": {},
     "output_type": "execute_result"
    }
   ],
   "source": [
    "regressia_1500['Y(Xt)']=regressia_1500.Xt_1500 * 9.5836 +  217.8170 \n",
    "regressia_1500"
   ]
  },
  {
   "cell_type": "code",
   "execution_count": 22,
   "metadata": {},
   "outputs": [
    {
     "data": {
      "text/html": [
       "<div>\n",
       "<style scoped>\n",
       "    .dataframe tbody tr th:only-of-type {\n",
       "        vertical-align: middle;\n",
       "    }\n",
       "\n",
       "    .dataframe tbody tr th {\n",
       "        vertical-align: top;\n",
       "    }\n",
       "\n",
       "    .dataframe thead th {\n",
       "        text-align: right;\n",
       "    }\n",
       "</style>\n",
       "<table border=\"1\" class=\"dataframe\">\n",
       "  <thead>\n",
       "    <tr style=\"text-align: right;\">\n",
       "      <th></th>\n",
       "      <th>Y</th>\n",
       "      <th>Xt_2600</th>\n",
       "      <th>Y(Xt)</th>\n",
       "    </tr>\n",
       "  </thead>\n",
       "  <tbody>\n",
       "    <tr>\n",
       "      <th>5</th>\n",
       "      <td>750</td>\n",
       "      <td>30</td>\n",
       "      <td>732.4336</td>\n",
       "    </tr>\n",
       "    <tr>\n",
       "      <th>6</th>\n",
       "      <td>800</td>\n",
       "      <td>31</td>\n",
       "      <td>791.8931</td>\n",
       "    </tr>\n",
       "    <tr>\n",
       "      <th>7</th>\n",
       "      <td>850</td>\n",
       "      <td>32</td>\n",
       "      <td>851.3526</td>\n",
       "    </tr>\n",
       "    <tr>\n",
       "      <th>8</th>\n",
       "      <td>900</td>\n",
       "      <td>33</td>\n",
       "      <td>910.8121</td>\n",
       "    </tr>\n",
       "    <tr>\n",
       "      <th>9</th>\n",
       "      <td>600</td>\n",
       "      <td>28</td>\n",
       "      <td>613.5146</td>\n",
       "    </tr>\n",
       "  </tbody>\n",
       "</table>\n",
       "</div>"
      ],
      "text/plain": [
       "     Y  Xt_2600     Y(Xt)\n",
       "5  750       30  732.4336\n",
       "6  800       31  791.8931\n",
       "7  850       32  851.3526\n",
       "8  900       33  910.8121\n",
       "9  600       28  613.5146"
      ]
     },
     "execution_count": 22,
     "metadata": {},
     "output_type": "execute_result"
    }
   ],
   "source": [
    "regressia_2600['Y(Xt)']=regressia_2600.Xt_2600 * 59.4595  - 1051.3514 \n",
    "regressia_2600"
   ]
  },
  {
   "cell_type": "markdown",
   "metadata": {},
   "source": [
    "Далее производится расчет для значений UDP, которых нет в исходных данных: 500 Мбит/с и 400 Мбит/с"
   ]
  },
  {
   "cell_type": "code",
   "execution_count": 23,
   "metadata": {},
   "outputs": [
    {
     "data": {
      "text/html": [
       "<div>\n",
       "<style scoped>\n",
       "    .dataframe tbody tr th:only-of-type {\n",
       "        vertical-align: middle;\n",
       "    }\n",
       "\n",
       "    .dataframe tbody tr th {\n",
       "        vertical-align: top;\n",
       "    }\n",
       "\n",
       "    .dataframe thead th {\n",
       "        text-align: right;\n",
       "    }\n",
       "</style>\n",
       "<table border=\"1\" class=\"dataframe\">\n",
       "  <thead>\n",
       "    <tr style=\"text-align: right;\">\n",
       "      <th></th>\n",
       "      <th>Y</th>\n",
       "      <th>Xt_1500</th>\n",
       "      <th>Y(Xt)</th>\n",
       "    </tr>\n",
       "  </thead>\n",
       "  <tbody>\n",
       "    <tr>\n",
       "      <th>0</th>\n",
       "      <td>600.0</td>\n",
       "      <td>38.000000</td>\n",
       "      <td>581.9938</td>\n",
       "    </tr>\n",
       "    <tr>\n",
       "      <th>1</th>\n",
       "      <td>650.0</td>\n",
       "      <td>45.000000</td>\n",
       "      <td>649.0790</td>\n",
       "    </tr>\n",
       "    <tr>\n",
       "      <th>2</th>\n",
       "      <td>700.0</td>\n",
       "      <td>52.000000</td>\n",
       "      <td>716.1642</td>\n",
       "    </tr>\n",
       "    <tr>\n",
       "      <th>3</th>\n",
       "      <td>750.0</td>\n",
       "      <td>60.000000</td>\n",
       "      <td>792.8330</td>\n",
       "    </tr>\n",
       "    <tr>\n",
       "      <th>4</th>\n",
       "      <td>900.0</td>\n",
       "      <td>67.000000</td>\n",
       "      <td>859.9182</td>\n",
       "    </tr>\n",
       "    <tr>\n",
       "      <th>5</th>\n",
       "      <td>500.0</td>\n",
       "      <td>29.444363</td>\n",
       "      <td>NaN</td>\n",
       "    </tr>\n",
       "    <tr>\n",
       "      <th>6</th>\n",
       "      <td>400.0</td>\n",
       "      <td>19.009871</td>\n",
       "      <td>NaN</td>\n",
       "    </tr>\n",
       "  </tbody>\n",
       "</table>\n",
       "</div>"
      ],
      "text/plain": [
       "       Y    Xt_1500     Y(Xt)\n",
       "0  600.0  38.000000  581.9938\n",
       "1  650.0  45.000000  649.0790\n",
       "2  700.0  52.000000  716.1642\n",
       "3  750.0  60.000000  792.8330\n",
       "4  900.0  67.000000  859.9182\n",
       "5  500.0  29.444363       NaN\n",
       "6  400.0  19.009871       NaN"
      ]
     },
     "execution_count": 23,
     "metadata": {},
     "output_type": "execute_result"
    }
   ],
   "source": [
    "Xt_regression_1500_500 = (500 - 217.8170) / 9.5836\n",
    "new_row = {'Y':500, 'Xt_1500':Xt_regression_1500_500}\n",
    "regressia_1500_new_values = regressia_1500.append(new_row, ignore_index=True)\n",
    "Xt_regression_1500_400 = (400 - 217.8170) / 9.5836\n",
    "new_row = {'Y':400, 'Xt_1500':Xt_regression_1500_400}\n",
    "regressia_1500_new_values = regressia_1500_new_values.append(new_row, ignore_index=True)\n",
    "regressia_1500_new_values"
   ]
  },
  {
   "cell_type": "code",
   "execution_count": 24,
   "metadata": {},
   "outputs": [
    {
     "data": {
      "text/html": [
       "<div>\n",
       "<style scoped>\n",
       "    .dataframe tbody tr th:only-of-type {\n",
       "        vertical-align: middle;\n",
       "    }\n",
       "\n",
       "    .dataframe tbody tr th {\n",
       "        vertical-align: top;\n",
       "    }\n",
       "\n",
       "    .dataframe thead th {\n",
       "        text-align: right;\n",
       "    }\n",
       "</style>\n",
       "<table border=\"1\" class=\"dataframe\">\n",
       "  <thead>\n",
       "    <tr style=\"text-align: right;\">\n",
       "      <th></th>\n",
       "      <th>Y</th>\n",
       "      <th>Xt_2600</th>\n",
       "      <th>Y(Xt)</th>\n",
       "    </tr>\n",
       "  </thead>\n",
       "  <tbody>\n",
       "    <tr>\n",
       "      <th>0</th>\n",
       "      <td>750.0</td>\n",
       "      <td>30.000000</td>\n",
       "      <td>732.4336</td>\n",
       "    </tr>\n",
       "    <tr>\n",
       "      <th>1</th>\n",
       "      <td>800.0</td>\n",
       "      <td>31.000000</td>\n",
       "      <td>791.8931</td>\n",
       "    </tr>\n",
       "    <tr>\n",
       "      <th>2</th>\n",
       "      <td>850.0</td>\n",
       "      <td>32.000000</td>\n",
       "      <td>851.3526</td>\n",
       "    </tr>\n",
       "    <tr>\n",
       "      <th>3</th>\n",
       "      <td>900.0</td>\n",
       "      <td>33.000000</td>\n",
       "      <td>910.8121</td>\n",
       "    </tr>\n",
       "    <tr>\n",
       "      <th>4</th>\n",
       "      <td>600.0</td>\n",
       "      <td>28.000000</td>\n",
       "      <td>613.5146</td>\n",
       "    </tr>\n",
       "    <tr>\n",
       "      <th>5</th>\n",
       "      <td>500.0</td>\n",
       "      <td>26.090892</td>\n",
       "      <td>NaN</td>\n",
       "    </tr>\n",
       "    <tr>\n",
       "      <th>6</th>\n",
       "      <td>400.0</td>\n",
       "      <td>24.409075</td>\n",
       "      <td>NaN</td>\n",
       "    </tr>\n",
       "  </tbody>\n",
       "</table>\n",
       "</div>"
      ],
      "text/plain": [
       "       Y    Xt_2600     Y(Xt)\n",
       "0  750.0  30.000000  732.4336\n",
       "1  800.0  31.000000  791.8931\n",
       "2  850.0  32.000000  851.3526\n",
       "3  900.0  33.000000  910.8121\n",
       "4  600.0  28.000000  613.5146\n",
       "5  500.0  26.090892       NaN\n",
       "6  400.0  24.409075       NaN"
      ]
     },
     "execution_count": 24,
     "metadata": {},
     "output_type": "execute_result"
    }
   ],
   "source": [
    "Xt_regression_2600_500 = (500 + 1051.3514) / 59.4595\n",
    "new_row = {'Y':500, 'Xt_2600':Xt_regression_2600_500}\n",
    "regressia_2600_new_values = regressia_2600.append(new_row, ignore_index=True)\n",
    "Xt_regression_2600_400 = (400 + 1051.3514) / 59.4595\n",
    "new_row = {'Y':400, 'Xt_2600':Xt_regression_2600_400}\n",
    "regressia_2600_new_values = regressia_2600_new_values.append(new_row, ignore_index=True)\n",
    "regressia_2600_new_values"
   ]
  },
  {
   "cell_type": "markdown",
   "metadata": {},
   "source": [
    "Далее производится расчет \"относительного расстояния\" между регрессионными линиями для сетевых устройств № 1 и № 2. Относительное расстояние между тактовыми частотами 2600 ГГц и 1500 ГГц, полностью аналогично расстоянию между линиями зависимостей UDP от температуры этих же сетевых устройств."
   ]
  },
  {
   "cell_type": "code",
   "execution_count": 25,
   "metadata": {},
   "outputs": [
    {
     "data": {
      "text/plain": [
       "0.18181818181818182"
      ]
     },
     "execution_count": 25,
     "metadata": {},
     "output_type": "execute_result"
    }
   ],
   "source": [
    "(1700-1500)/(2600-1500)"
   ]
  },
  {
   "cell_type": "markdown",
   "metadata": {},
   "source": [
    "0.1818 показывает, что линия сетевого устройства № 4 лежит на относительном расстоянии 18/100 между линиями сетевых устройств № 1 и № 2, соответственно ближе к линии сетевого устройства № 1."
   ]
  },
  {
   "cell_type": "markdown",
   "metadata": {},
   "source": [
    "Отделяем только данные для значений 400 Мбит/с и 500 Мбит/с."
   ]
  },
  {
   "cell_type": "code",
   "execution_count": 26,
   "metadata": {},
   "outputs": [
    {
     "data": {
      "text/html": [
       "<div>\n",
       "<style scoped>\n",
       "    .dataframe tbody tr th:only-of-type {\n",
       "        vertical-align: middle;\n",
       "    }\n",
       "\n",
       "    .dataframe tbody tr th {\n",
       "        vertical-align: top;\n",
       "    }\n",
       "\n",
       "    .dataframe thead th {\n",
       "        text-align: right;\n",
       "    }\n",
       "</style>\n",
       "<table border=\"1\" class=\"dataframe\">\n",
       "  <thead>\n",
       "    <tr style=\"text-align: right;\">\n",
       "      <th></th>\n",
       "      <th>Y</th>\n",
       "      <th>Xt_2600</th>\n",
       "    </tr>\n",
       "  </thead>\n",
       "  <tbody>\n",
       "    <tr>\n",
       "      <th>5</th>\n",
       "      <td>500.0</td>\n",
       "      <td>26.090892</td>\n",
       "    </tr>\n",
       "    <tr>\n",
       "      <th>6</th>\n",
       "      <td>400.0</td>\n",
       "      <td>24.409075</td>\n",
       "    </tr>\n",
       "  </tbody>\n",
       "</table>\n",
       "</div>"
      ],
      "text/plain": [
       "       Y    Xt_2600\n",
       "5  500.0  26.090892\n",
       "6  400.0  24.409075"
      ]
     },
     "execution_count": 26,
     "metadata": {},
     "output_type": "execute_result"
    }
   ],
   "source": [
    "regressia_2600_500_600=regressia_2600_new_values.drop(axis=0, index=[0,1,2,3,4])\n",
    "regressia_2600_500_600=regressia_2600_500_600.drop(axis=1, labels='Y(Xt)')\n",
    "regressia_2600_500_600"
   ]
  },
  {
   "cell_type": "code",
   "execution_count": 27,
   "metadata": {},
   "outputs": [
    {
     "data": {
      "text/html": [
       "<div>\n",
       "<style scoped>\n",
       "    .dataframe tbody tr th:only-of-type {\n",
       "        vertical-align: middle;\n",
       "    }\n",
       "\n",
       "    .dataframe tbody tr th {\n",
       "        vertical-align: top;\n",
       "    }\n",
       "\n",
       "    .dataframe thead th {\n",
       "        text-align: right;\n",
       "    }\n",
       "</style>\n",
       "<table border=\"1\" class=\"dataframe\">\n",
       "  <thead>\n",
       "    <tr style=\"text-align: right;\">\n",
       "      <th></th>\n",
       "      <th>Y</th>\n",
       "      <th>Xt_1500</th>\n",
       "    </tr>\n",
       "  </thead>\n",
       "  <tbody>\n",
       "    <tr>\n",
       "      <th>5</th>\n",
       "      <td>500.0</td>\n",
       "      <td>29.444363</td>\n",
       "    </tr>\n",
       "    <tr>\n",
       "      <th>6</th>\n",
       "      <td>400.0</td>\n",
       "      <td>19.009871</td>\n",
       "    </tr>\n",
       "  </tbody>\n",
       "</table>\n",
       "</div>"
      ],
      "text/plain": [
       "       Y    Xt_1500\n",
       "5  500.0  29.444363\n",
       "6  400.0  19.009871"
      ]
     },
     "execution_count": 27,
     "metadata": {},
     "output_type": "execute_result"
    }
   ],
   "source": [
    "regressia_1500_500_600=regressia_1500_new_values.drop(axis=0, index=[0,1,2,3,4])\n",
    "regressia_1500_500_600=regressia_1500_500_600.drop(axis=1, labels='Y(Xt)')\n",
    "regressia_1500_500_600"
   ]
  },
  {
   "cell_type": "markdown",
   "metadata": {},
   "source": [
    "Объединяем данные для сетевых устройств № 1 и № 2"
   ]
  },
  {
   "cell_type": "code",
   "execution_count": 28,
   "metadata": {},
   "outputs": [
    {
     "data": {
      "text/html": [
       "<div>\n",
       "<style scoped>\n",
       "    .dataframe tbody tr th:only-of-type {\n",
       "        vertical-align: middle;\n",
       "    }\n",
       "\n",
       "    .dataframe tbody tr th {\n",
       "        vertical-align: top;\n",
       "    }\n",
       "\n",
       "    .dataframe thead th {\n",
       "        text-align: right;\n",
       "    }\n",
       "</style>\n",
       "<table border=\"1\" class=\"dataframe\">\n",
       "  <thead>\n",
       "    <tr style=\"text-align: right;\">\n",
       "      <th></th>\n",
       "      <th>Y</th>\n",
       "      <th>Xt_1500</th>\n",
       "      <th>Xt_2600</th>\n",
       "    </tr>\n",
       "  </thead>\n",
       "  <tbody>\n",
       "    <tr>\n",
       "      <th>0</th>\n",
       "      <td>500.0</td>\n",
       "      <td>29.444363</td>\n",
       "      <td>26.090892</td>\n",
       "    </tr>\n",
       "    <tr>\n",
       "      <th>1</th>\n",
       "      <td>400.0</td>\n",
       "      <td>19.009871</td>\n",
       "      <td>24.409075</td>\n",
       "    </tr>\n",
       "  </tbody>\n",
       "</table>\n",
       "</div>"
      ],
      "text/plain": [
       "       Y    Xt_1500    Xt_2600\n",
       "0  500.0  29.444363  26.090892\n",
       "1  400.0  19.009871  24.409075"
      ]
     },
     "execution_count": 28,
     "metadata": {},
     "output_type": "execute_result"
    }
   ],
   "source": [
    "regressia_500_600=regressia_1500_500_600.merge(regressia_2600_500_600, on='Y')\n",
    "regressia_500_600"
   ]
  },
  {
   "cell_type": "markdown",
   "metadata": {},
   "source": [
    "Вычисление значений температуры для сетевого устройства № 4"
   ]
  },
  {
   "cell_type": "code",
   "execution_count": 29,
   "metadata": {},
   "outputs": [
    {
     "data": {
      "text/html": [
       "<div>\n",
       "<style scoped>\n",
       "    .dataframe tbody tr th:only-of-type {\n",
       "        vertical-align: middle;\n",
       "    }\n",
       "\n",
       "    .dataframe tbody tr th {\n",
       "        vertical-align: top;\n",
       "    }\n",
       "\n",
       "    .dataframe thead th {\n",
       "        text-align: right;\n",
       "    }\n",
       "</style>\n",
       "<table border=\"1\" class=\"dataframe\">\n",
       "  <thead>\n",
       "    <tr style=\"text-align: right;\">\n",
       "      <th></th>\n",
       "      <th>Y</th>\n",
       "      <th>Xt_1500</th>\n",
       "      <th>Xt_2600</th>\n",
       "      <th>Xt_1700</th>\n",
       "    </tr>\n",
       "  </thead>\n",
       "  <tbody>\n",
       "    <tr>\n",
       "      <th>0</th>\n",
       "      <td>500.0</td>\n",
       "      <td>29.444363</td>\n",
       "      <td>26.090892</td>\n",
       "      <td>28.834641</td>\n",
       "    </tr>\n",
       "    <tr>\n",
       "      <th>1</th>\n",
       "      <td>400.0</td>\n",
       "      <td>19.009871</td>\n",
       "      <td>24.409075</td>\n",
       "      <td>19.991544</td>\n",
       "    </tr>\n",
       "  </tbody>\n",
       "</table>\n",
       "</div>"
      ],
      "text/plain": [
       "       Y    Xt_1500    Xt_2600    Xt_1700\n",
       "0  500.0  29.444363  26.090892  28.834641\n",
       "1  400.0  19.009871  24.409075  19.991544"
      ]
     },
     "execution_count": 29,
     "metadata": {},
     "output_type": "execute_result"
    }
   ],
   "source": [
    "regressia_500_600['Xt_1700']=(regressia_500_600.Xt_2600-regressia_500_600.Xt_1500)*0.18181818181818182+regressia_500_600.Xt_1500\n",
    "regressia_1700_500_600=regressia_500_600\n",
    "regressia_1700_500_600"
   ]
  },
  {
   "cell_type": "markdown",
   "metadata": {},
   "source": [
    "Вычисление параметров регресси для сетевого устройства № 4"
   ]
  },
  {
   "cell_type": "code",
   "execution_count": 30,
   "metadata": {},
   "outputs": [
    {
     "name": "stdout",
     "output_type": "stream",
     "text": [
      "                            OLS Regression Results                            \n",
      "==============================================================================\n",
      "Dep. Variable:                      Y   R-squared:                       1.000\n",
      "Model:                            OLS   Adj. R-squared:                    nan\n",
      "Method:                 Least Squares   F-statistic:                       nan\n",
      "Date:                Thu, 18 Aug 2022   Prob (F-statistic):                nan\n",
      "Time:                        00:15:25   Log-Likelihood:                 56.773\n",
      "No. Observations:                   2   AIC:                            -109.5\n",
      "Df Residuals:                       0   BIC:                            -112.2\n",
      "Df Model:                           1                                         \n",
      "Covariance Type:            nonrobust                                         \n",
      "==============================================================================\n",
      "                 coef    std err          t      P>|t|      [0.025      0.975]\n",
      "------------------------------------------------------------------------------\n",
      "Intercept    173.9305        inf          0        nan         nan         nan\n",
      "Xt_1700       11.3083        inf          0        nan         nan         nan\n",
      "==============================================================================\n",
      "Omnibus:                          nan   Durbin-Watson:                   0.000\n",
      "Prob(Omnibus):                    nan   Jarque-Bera (JB):                0.750\n",
      "Skew:                           0.000   Prob(JB):                        0.687\n",
      "Kurtosis:                       0.000   Cond. No.                         139.\n",
      "==============================================================================\n",
      "\n",
      "Notes:\n",
      "[1] Standard Errors assume that the covariance matrix of the errors is correctly specified.\n"
     ]
    },
    {
     "name": "stderr",
     "output_type": "stream",
     "text": [
      "/opt/tljh/user/lib/python3.7/site-packages/statsmodels/stats/stattools.py:75: ValueWarning: omni_normtest is not valid with less than 8 observations; 2 samples were given.\n",
      "  \"samples were given.\" % int(n), ValueWarning)\n",
      "/opt/tljh/user/lib/python3.7/site-packages/statsmodels/regression/linear_model.py:1751: RuntimeWarning: divide by zero encountered in true_divide\n",
      "  return 1 - (np.divide(self.nobs - self.k_constant, self.df_resid)\n",
      "/opt/tljh/user/lib/python3.7/site-packages/statsmodels/regression/linear_model.py:1752: RuntimeWarning: invalid value encountered in double_scalars\n",
      "  * (1 - self.rsquared))\n",
      "/opt/tljh/user/lib/python3.7/site-packages/statsmodels/regression/linear_model.py:1673: RuntimeWarning: divide by zero encountered in double_scalars\n",
      "  return np.dot(wresid, wresid) / self.df_resid\n"
     ]
    }
   ],
   "source": [
    "#регрессия только от температуры для 1700 ГГЦ\n",
    "results=smf.ols('Y~Xt_1700',regressia_1700_500_600).fit()\n",
    "print(results.summary())"
   ]
  },
  {
   "cell_type": "markdown",
   "metadata": {},
   "source": [
    "По результатам регрессии производится расчет значений температуры при каждом значениее UDP"
   ]
  },
  {
   "cell_type": "code",
   "execution_count": 31,
   "metadata": {},
   "outputs": [
    {
     "data": {
      "text/html": [
       "<div>\n",
       "<style scoped>\n",
       "    .dataframe tbody tr th:only-of-type {\n",
       "        vertical-align: middle;\n",
       "    }\n",
       "\n",
       "    .dataframe tbody tr th {\n",
       "        vertical-align: top;\n",
       "    }\n",
       "\n",
       "    .dataframe thead th {\n",
       "        text-align: right;\n",
       "    }\n",
       "</style>\n",
       "<table border=\"1\" class=\"dataframe\">\n",
       "  <thead>\n",
       "    <tr style=\"text-align: right;\">\n",
       "      <th></th>\n",
       "      <th>Y</th>\n",
       "      <th>Xcp</th>\n",
       "      <th>Xy</th>\n",
       "      <th>Xt</th>\n",
       "    </tr>\n",
       "  </thead>\n",
       "  <tbody>\n",
       "    <tr>\n",
       "      <th>0</th>\n",
       "      <td>50.0</td>\n",
       "      <td>1700.0</td>\n",
       "      <td>8.0</td>\n",
       "      <td>-11.0</td>\n",
       "    </tr>\n",
       "    <tr>\n",
       "      <th>1</th>\n",
       "      <td>100.0</td>\n",
       "      <td>1700.0</td>\n",
       "      <td>11.0</td>\n",
       "      <td>-7.0</td>\n",
       "    </tr>\n",
       "    <tr>\n",
       "      <th>2</th>\n",
       "      <td>150.0</td>\n",
       "      <td>1700.0</td>\n",
       "      <td>15.0</td>\n",
       "      <td>-2.0</td>\n",
       "    </tr>\n",
       "    <tr>\n",
       "      <th>3</th>\n",
       "      <td>200.0</td>\n",
       "      <td>1700.0</td>\n",
       "      <td>18.0</td>\n",
       "      <td>2.0</td>\n",
       "    </tr>\n",
       "    <tr>\n",
       "      <th>4</th>\n",
       "      <td>250.0</td>\n",
       "      <td>1700.0</td>\n",
       "      <td>22.0</td>\n",
       "      <td>7.0</td>\n",
       "    </tr>\n",
       "    <tr>\n",
       "      <th>5</th>\n",
       "      <td>300.0</td>\n",
       "      <td>1700.0</td>\n",
       "      <td>26.0</td>\n",
       "      <td>11.0</td>\n",
       "    </tr>\n",
       "    <tr>\n",
       "      <th>6</th>\n",
       "      <td>350.0</td>\n",
       "      <td>1700.0</td>\n",
       "      <td>29.0</td>\n",
       "      <td>16.0</td>\n",
       "    </tr>\n",
       "    <tr>\n",
       "      <th>7</th>\n",
       "      <td>400.0</td>\n",
       "      <td>1700.0</td>\n",
       "      <td>33.0</td>\n",
       "      <td>20.0</td>\n",
       "    </tr>\n",
       "    <tr>\n",
       "      <th>8</th>\n",
       "      <td>450.0</td>\n",
       "      <td>1700.0</td>\n",
       "      <td>36.0</td>\n",
       "      <td>24.0</td>\n",
       "    </tr>\n",
       "    <tr>\n",
       "      <th>9</th>\n",
       "      <td>500.0</td>\n",
       "      <td>1700.0</td>\n",
       "      <td>40.0</td>\n",
       "      <td>29.0</td>\n",
       "    </tr>\n",
       "  </tbody>\n",
       "</table>\n",
       "</div>"
      ],
      "text/plain": [
       "       Y     Xcp    Xy    Xt\n",
       "0   50.0  1700.0   8.0 -11.0\n",
       "1  100.0  1700.0  11.0  -7.0\n",
       "2  150.0  1700.0  15.0  -2.0\n",
       "3  200.0  1700.0  18.0   2.0\n",
       "4  250.0  1700.0  22.0   7.0\n",
       "5  300.0  1700.0  26.0  11.0\n",
       "6  350.0  1700.0  29.0  16.0\n",
       "7  400.0  1700.0  33.0  20.0\n",
       "8  450.0  1700.0  36.0  24.0\n",
       "9  500.0  1700.0  40.0  29.0"
      ]
     },
     "execution_count": 31,
     "metadata": {},
     "output_type": "execute_result"
    }
   ],
   "source": [
    "data_Xy['Xt']=(data_Xy.Y-173.9305)/11.3083\n",
    "data_Xy=data_Xy.round(0)\n",
    "data_Xy"
   ]
  },
  {
   "cell_type": "markdown",
   "metadata": {},
   "source": [
    "Получились отрицательные значения температуры, что не может быть в комнатных условиях с температурой воздуха 18 градусов по Цельсию. Произведем замену значений температуры ниже 18 градсов Цельсия на 18 градусов. Это обосновано термодинамическими законами. Сетевое устройство будет поддерживать температуру окружающего воздуха при UDP от 50 Мбит/с до 350 Мбит/с."
   ]
  },
  {
   "cell_type": "code",
   "execution_count": 32,
   "metadata": {},
   "outputs": [
    {
     "data": {
      "text/plain": [
       "[18, 18, 18, 18, 18, 18, 18, 20.0, 24.0, 29.0]"
      ]
     },
     "execution_count": 32,
     "metadata": {},
     "output_type": "execute_result"
    }
   ],
   "source": [
    "Xy_new=[]\n",
    "for i in data_Xy.Xt:\n",
    "    if i <= 18:\n",
    "        Xy_new.append(18)\n",
    "    else:\n",
    "        Xy_new.append(i)\n",
    "Xy_new"
   ]
  },
  {
   "cell_type": "code",
   "execution_count": 33,
   "metadata": {},
   "outputs": [],
   "source": [
    "data_Xy['Xt_new']=Xy_new\n",
    "\n",
    "\n"
   ]
  },
  {
   "cell_type": "code",
   "execution_count": 34,
   "metadata": {},
   "outputs": [],
   "source": [
    "data_Xy = data_Xy.drop(axis=1, labels='Xt')"
   ]
  },
  {
   "cell_type": "markdown",
   "metadata": {},
   "source": [
    "Визуализация полученных данных показана на графиках ниже."
   ]
  },
  {
   "cell_type": "code",
   "execution_count": 35,
   "metadata": {},
   "outputs": [
    {
     "name": "stderr",
     "output_type": "stream",
     "text": [
      "/opt/tljh/user/lib/python3.7/site-packages/seaborn/_decorators.py:43: FutureWarning: Pass the following variables as keyword args: x, y. From version 0.12, the only valid positional argument will be `data`, and passing other arguments without an explicit keyword will result in an error or misinterpretation.\n",
      "  FutureWarning\n"
     ]
    },
    {
     "data": {
      "text/plain": [
       "Text(0, 0.5, 'Температура ЦП, град С')"
      ]
     },
     "execution_count": 35,
     "metadata": {},
     "output_type": "execute_result"
    },
    {
     "name": "stderr",
     "output_type": "stream",
     "text": [
      "findfont: Font family ['normal'] not found. Falling back to DejaVu Sans.\n",
      "findfont: Font family ['normal'] not found. Falling back to DejaVu Sans.\n"
     ]
    },
    {
     "data": {
      "image/png": "[encoded data removed]",
      "text/plain": [
       "<Figure size 2016x720 with 1 Axes>"
      ]
     },
     "metadata": {
      "needs_background": "light"
     },
     "output_type": "display_data"
    }
   ],
   "source": [
    "font = {'family': 'normal', 'size':'25'}\n",
    "plt.rc('font',**font)\n",
    "plt.figure(figsize=(28,10))\n",
    "ax1=sns.lineplot(data_Xy.Y,data_Xy.Xt_new, linewidth=15)\n",
    "ax1.set_title('Температура ЦП при каждом UDP')\n",
    "ax1.set_xlabel('UDP, Мбит/с')\n",
    "ax1.set_ylabel('Температура ЦП, град С')"
   ]
  },
  {
   "cell_type": "code",
   "execution_count": 36,
   "metadata": {},
   "outputs": [
    {
     "name": "stderr",
     "output_type": "stream",
     "text": [
      "/opt/tljh/user/lib/python3.7/site-packages/seaborn/_decorators.py:43: FutureWarning: Pass the following variables as keyword args: x, y. From version 0.12, the only valid positional argument will be `data`, and passing other arguments without an explicit keyword will result in an error or misinterpretation.\n",
      "  FutureWarning\n"
     ]
    },
    {
     "data": {
      "text/plain": [
       "Text(0, 0.5, 'Утилизация ЦП, %')"
      ]
     },
     "execution_count": 36,
     "metadata": {},
     "output_type": "execute_result"
    },
    {
     "data": {
      "image/png": "[encoded data removed]",
      "text/plain": [
       "<Figure size 2016x720 with 1 Axes>"
      ]
     },
     "metadata": {
      "needs_background": "light"
     },
     "output_type": "display_data"
    }
   ],
   "source": [
    "font = {'family': 'normal', 'size':'25'}\n",
    "plt.rc('font',**font)\n",
    "plt.figure(figsize=(28,10))\n",
    "ax2=sns.barplot(data_Xy.Y,data_Xy.Xy)\n",
    "ax2.set_title('Утилизация ЦП при каждом UDP')\n",
    "ax2.set_xlabel('UDP, Мбит/с')\n",
    "ax2.set_ylabel('Утилизация ЦП, %')"
   ]
  },
  {
   "cell_type": "markdown",
   "metadata": {},
   "source": [
    "Ответ: Ниже представлена таблица для прогноза утилизации и температуры ЦП сетевого устройства № 4"
   ]
  },
  {
   "cell_type": "code",
   "execution_count": 37,
   "metadata": {},
   "outputs": [
    {
     "data": {
      "text/html": [
       "<div>\n",
       "<style scoped>\n",
       "    .dataframe tbody tr th:only-of-type {\n",
       "        vertical-align: middle;\n",
       "    }\n",
       "\n",
       "    .dataframe tbody tr th {\n",
       "        vertical-align: top;\n",
       "    }\n",
       "\n",
       "    .dataframe thead th {\n",
       "        text-align: right;\n",
       "    }\n",
       "</style>\n",
       "<table border=\"1\" class=\"dataframe\">\n",
       "  <thead>\n",
       "    <tr style=\"text-align: right;\">\n",
       "      <th></th>\n",
       "      <th>Y</th>\n",
       "      <th>Xcp</th>\n",
       "      <th>Xy</th>\n",
       "      <th>Xt_new</th>\n",
       "    </tr>\n",
       "  </thead>\n",
       "  <tbody>\n",
       "    <tr>\n",
       "      <th>0</th>\n",
       "      <td>50.0</td>\n",
       "      <td>1700.0</td>\n",
       "      <td>8.0</td>\n",
       "      <td>18.0</td>\n",
       "    </tr>\n",
       "    <tr>\n",
       "      <th>1</th>\n",
       "      <td>100.0</td>\n",
       "      <td>1700.0</td>\n",
       "      <td>11.0</td>\n",
       "      <td>18.0</td>\n",
       "    </tr>\n",
       "    <tr>\n",
       "      <th>2</th>\n",
       "      <td>150.0</td>\n",
       "      <td>1700.0</td>\n",
       "      <td>15.0</td>\n",
       "      <td>18.0</td>\n",
       "    </tr>\n",
       "    <tr>\n",
       "      <th>3</th>\n",
       "      <td>200.0</td>\n",
       "      <td>1700.0</td>\n",
       "      <td>18.0</td>\n",
       "      <td>18.0</td>\n",
       "    </tr>\n",
       "    <tr>\n",
       "      <th>4</th>\n",
       "      <td>250.0</td>\n",
       "      <td>1700.0</td>\n",
       "      <td>22.0</td>\n",
       "      <td>18.0</td>\n",
       "    </tr>\n",
       "    <tr>\n",
       "      <th>5</th>\n",
       "      <td>300.0</td>\n",
       "      <td>1700.0</td>\n",
       "      <td>26.0</td>\n",
       "      <td>18.0</td>\n",
       "    </tr>\n",
       "    <tr>\n",
       "      <th>6</th>\n",
       "      <td>350.0</td>\n",
       "      <td>1700.0</td>\n",
       "      <td>29.0</td>\n",
       "      <td>18.0</td>\n",
       "    </tr>\n",
       "    <tr>\n",
       "      <th>7</th>\n",
       "      <td>400.0</td>\n",
       "      <td>1700.0</td>\n",
       "      <td>33.0</td>\n",
       "      <td>20.0</td>\n",
       "    </tr>\n",
       "    <tr>\n",
       "      <th>8</th>\n",
       "      <td>450.0</td>\n",
       "      <td>1700.0</td>\n",
       "      <td>36.0</td>\n",
       "      <td>24.0</td>\n",
       "    </tr>\n",
       "    <tr>\n",
       "      <th>9</th>\n",
       "      <td>500.0</td>\n",
       "      <td>1700.0</td>\n",
       "      <td>40.0</td>\n",
       "      <td>29.0</td>\n",
       "    </tr>\n",
       "  </tbody>\n",
       "</table>\n",
       "</div>"
      ],
      "text/plain": [
       "       Y     Xcp    Xy  Xt_new\n",
       "0   50.0  1700.0   8.0    18.0\n",
       "1  100.0  1700.0  11.0    18.0\n",
       "2  150.0  1700.0  15.0    18.0\n",
       "3  200.0  1700.0  18.0    18.0\n",
       "4  250.0  1700.0  22.0    18.0\n",
       "5  300.0  1700.0  26.0    18.0\n",
       "6  350.0  1700.0  29.0    18.0\n",
       "7  400.0  1700.0  33.0    20.0\n",
       "8  450.0  1700.0  36.0    24.0\n",
       "9  500.0  1700.0  40.0    29.0"
      ]
     },
     "execution_count": 37,
     "metadata": {},
     "output_type": "execute_result"
    }
   ],
   "source": [
    "data_Xy"
   ]
  },
  {
   "cell_type": "markdown",
   "metadata": {},
   "source": [
    "Y - это значение параметра UDP Throughput, Мбит/с,\n",
    "\n",
    "Xcp - это значение тактовой частоты процессора в ГГц,\n",
    "\n",
    "Xy - это значение параметра утилизации ЦП, %,\n",
    "\n",
    "Xt_new - это значение температуры ЦП, град С,"
   ]
  },
  {
   "cell_type": "markdown",
   "metadata": {},
   "source": [
    "# Задание № 2"
   ]
  },
  {
   "cell_type": "markdown",
   "metadata": {},
   "source": [
    "Необходимо: подготовить требования к методике нагрузочного тестирования сетевых устройств.\n",
    "    "
   ]
  },
  {
   "cell_type": "markdown",
   "metadata": {},
   "source": [
    "По найденной модели находим UDP Throughput\n",
    "UDP_2000_GGc=-583.6364+Xy * 14+Xcp * 0.3091"
   ]
  },
  {
   "cell_type": "markdown",
   "metadata": {},
   "source": [
    "Параметры сетевого устройства № 1 представлены ниже. Необходимо посчитать по регрессионной модели значения параметра утилизации и по регрессии для температуры для сетевого устройства № 1 посчитать параметры температуры. При температуре меньше 18 градусов по Цельсию нужно оставить 18. Далее нужно убрать те значения, которые не удовлетворяют требованиям к сетевым устройствам из задания 2. Тоже сделать для остальных сетевых устройств."
   ]
  },
  {
   "cell_type": "code",
   "execution_count": 38,
   "metadata": {},
   "outputs": [
    {
     "data": {
      "text/html": [
       "<div>\n",
       "<style scoped>\n",
       "    .dataframe tbody tr th:only-of-type {\n",
       "        vertical-align: middle;\n",
       "    }\n",
       "\n",
       "    .dataframe tbody tr th {\n",
       "        vertical-align: top;\n",
       "    }\n",
       "\n",
       "    .dataframe thead th {\n",
       "        text-align: right;\n",
       "    }\n",
       "</style>\n",
       "<table border=\"1\" class=\"dataframe\">\n",
       "  <thead>\n",
       "    <tr style=\"text-align: right;\">\n",
       "      <th></th>\n",
       "      <th>Y</th>\n",
       "      <th>Xcp</th>\n",
       "      <th>Xy</th>\n",
       "      <th>Xt_new</th>\n",
       "    </tr>\n",
       "  </thead>\n",
       "  <tbody>\n",
       "    <tr>\n",
       "      <th>0</th>\n",
       "      <td>100</td>\n",
       "      <td>1500</td>\n",
       "      <td>16.0</td>\n",
       "      <td>18.0</td>\n",
       "    </tr>\n",
       "    <tr>\n",
       "      <th>1</th>\n",
       "      <td>200</td>\n",
       "      <td>1500</td>\n",
       "      <td>23.0</td>\n",
       "      <td>18.0</td>\n",
       "    </tr>\n",
       "    <tr>\n",
       "      <th>2</th>\n",
       "      <td>300</td>\n",
       "      <td>1500</td>\n",
       "      <td>30.0</td>\n",
       "      <td>18.0</td>\n",
       "    </tr>\n",
       "    <tr>\n",
       "      <th>3</th>\n",
       "      <td>400</td>\n",
       "      <td>1500</td>\n",
       "      <td>37.0</td>\n",
       "      <td>19.0</td>\n",
       "    </tr>\n",
       "    <tr>\n",
       "      <th>4</th>\n",
       "      <td>500</td>\n",
       "      <td>1500</td>\n",
       "      <td>44.0</td>\n",
       "      <td>29.0</td>\n",
       "    </tr>\n",
       "    <tr>\n",
       "      <th>5</th>\n",
       "      <td>600</td>\n",
       "      <td>1500</td>\n",
       "      <td>51.0</td>\n",
       "      <td>40.0</td>\n",
       "    </tr>\n",
       "    <tr>\n",
       "      <th>6</th>\n",
       "      <td>700</td>\n",
       "      <td>1500</td>\n",
       "      <td>59.0</td>\n",
       "      <td>50.0</td>\n",
       "    </tr>\n",
       "  </tbody>\n",
       "</table>\n",
       "</div>"
      ],
      "text/plain": [
       "     Y   Xcp    Xy  Xt_new\n",
       "0  100  1500  16.0    18.0\n",
       "1  200  1500  23.0    18.0\n",
       "2  300  1500  30.0    18.0\n",
       "3  400  1500  37.0    19.0\n",
       "4  500  1500  44.0    29.0\n",
       "5  600  1500  51.0    40.0\n",
       "6  700  1500  59.0    50.0"
      ]
     },
     "execution_count": 38,
     "metadata": {},
     "output_type": "execute_result"
    }
   ],
   "source": [
    "Equipment_1 = pd.DataFrame({\n",
    "    'Y':[100,200,300,400,500, 600,700, 800, 900],\\\n",
    "    'Xcp':[1500,1500,1500,1500, 1500, 1500,1500,1500,1500]})\n",
    "Equipment_1['Xy'] = ((Equipment_1.Y + 583.6364 - 0.3091 * Equipment_1.Xcp) / 14)\n",
    "Equipment_1['Xt']=(Equipment_1.Y - 217.8170) / 9.5836\n",
    "Xy_new=[]\n",
    "for i in Equipment_1.Xt:\n",
    "    if i <= 18:\n",
    "        Xy_new.append(18)\n",
    "    else:\n",
    "        Xy_new.append(i)\n",
    "Xy_new\n",
    "Equipment_1['Xt_new']=Xy_new\n",
    "Equipment_1=Equipment_1.round(0)\n",
    "Equipment_1=Equipment_1.drop(axis=1, labels='Xt')\n",
    "Equipment_1=Equipment_1.drop(axis=0, index=8)\n",
    "Equipment_1=Equipment_1.drop(axis=0, index=7)\n",
    "Equipment_1"
   ]
  },
  {
   "cell_type": "markdown",
   "metadata": {},
   "source": [
    "Параметры сетевого устройства № 2 представлены ниже"
   ]
  },
  {
   "cell_type": "code",
   "execution_count": 39,
   "metadata": {},
   "outputs": [
    {
     "data": {
      "text/html": [
       "<div>\n",
       "<style scoped>\n",
       "    .dataframe tbody tr th:only-of-type {\n",
       "        vertical-align: middle;\n",
       "    }\n",
       "\n",
       "    .dataframe tbody tr th {\n",
       "        vertical-align: top;\n",
       "    }\n",
       "\n",
       "    .dataframe thead th {\n",
       "        text-align: right;\n",
       "    }\n",
       "</style>\n",
       "<table border=\"1\" class=\"dataframe\">\n",
       "  <thead>\n",
       "    <tr style=\"text-align: right;\">\n",
       "      <th></th>\n",
       "      <th>Y</th>\n",
       "      <th>Xcp</th>\n",
       "      <th>Xy_new</th>\n",
       "      <th>Xt_new</th>\n",
       "    </tr>\n",
       "  </thead>\n",
       "  <tbody>\n",
       "    <tr>\n",
       "      <th>0</th>\n",
       "      <td>100</td>\n",
       "      <td>2600</td>\n",
       "      <td>0.0</td>\n",
       "      <td>19.0</td>\n",
       "    </tr>\n",
       "    <tr>\n",
       "      <th>1</th>\n",
       "      <td>200</td>\n",
       "      <td>2600</td>\n",
       "      <td>0.0</td>\n",
       "      <td>21.0</td>\n",
       "    </tr>\n",
       "    <tr>\n",
       "      <th>2</th>\n",
       "      <td>300</td>\n",
       "      <td>2600</td>\n",
       "      <td>6.0</td>\n",
       "      <td>23.0</td>\n",
       "    </tr>\n",
       "    <tr>\n",
       "      <th>3</th>\n",
       "      <td>400</td>\n",
       "      <td>2600</td>\n",
       "      <td>13.0</td>\n",
       "      <td>24.0</td>\n",
       "    </tr>\n",
       "    <tr>\n",
       "      <th>4</th>\n",
       "      <td>500</td>\n",
       "      <td>2600</td>\n",
       "      <td>20.0</td>\n",
       "      <td>26.0</td>\n",
       "    </tr>\n",
       "    <tr>\n",
       "      <th>5</th>\n",
       "      <td>600</td>\n",
       "      <td>2600</td>\n",
       "      <td>27.0</td>\n",
       "      <td>28.0</td>\n",
       "    </tr>\n",
       "    <tr>\n",
       "      <th>6</th>\n",
       "      <td>700</td>\n",
       "      <td>2600</td>\n",
       "      <td>34.0</td>\n",
       "      <td>29.0</td>\n",
       "    </tr>\n",
       "    <tr>\n",
       "      <th>7</th>\n",
       "      <td>800</td>\n",
       "      <td>2600</td>\n",
       "      <td>41.0</td>\n",
       "      <td>31.0</td>\n",
       "    </tr>\n",
       "    <tr>\n",
       "      <th>8</th>\n",
       "      <td>900</td>\n",
       "      <td>2600</td>\n",
       "      <td>49.0</td>\n",
       "      <td>33.0</td>\n",
       "    </tr>\n",
       "  </tbody>\n",
       "</table>\n",
       "</div>"
      ],
      "text/plain": [
       "     Y   Xcp  Xy_new  Xt_new\n",
       "0  100  2600     0.0    19.0\n",
       "1  200  2600     0.0    21.0\n",
       "2  300  2600     6.0    23.0\n",
       "3  400  2600    13.0    24.0\n",
       "4  500  2600    20.0    26.0\n",
       "5  600  2600    27.0    28.0\n",
       "6  700  2600    34.0    29.0\n",
       "7  800  2600    41.0    31.0\n",
       "8  900  2600    49.0    33.0"
      ]
     },
     "execution_count": 39,
     "metadata": {},
     "output_type": "execute_result"
    }
   ],
   "source": [
    "# Так как отрицательных значений в утилизации ЦП быть не может, нужно заменить их на ноль. Для этого создан первый цикл for.\n",
    "Equipment_2 = pd.DataFrame({\n",
    "    'Y':[100,200,300,400,500, 600,700, 800, 900],\\\n",
    "    'Xcp':[2600,2600,2600,2600, 2600, 2600,2600,2600,2600]})\n",
    "Equipment_2['Xy'] = ((Equipment_2.Y + 583.6364 - 0.3091 * Equipment_2.Xcp) / 14)\n",
    "Equipment_2['Xt']=(Equipment_2.Y + 1051.3514) / 59.4595\n",
    "Xy_new=[]\n",
    "for i in Equipment_2.Xy:\n",
    "    if i <= 0:\n",
    "        Xy_new.append(0)\n",
    "    else:\n",
    "        Xy_new.append(i)\n",
    "Equipment_2['Xy_new']=Xy_new\n",
    "Equipment_2\n",
    "Xt_new=[]\n",
    "for i in Equipment_2.Xt:\n",
    "    if i <= 18:\n",
    "        Xt_new.append(18)\n",
    "    else:\n",
    "        Xt_new.append(i)\n",
    "Xt_new\n",
    "Equipment_2['Xt_new']=Xt_new\n",
    "Equipment_2=Equipment_2.round(0)\n",
    "Equipment_2=Equipment_2.drop(axis=1, labels='Xt')\n",
    "Equipment_2=Equipment_2.drop(axis=1, labels='Xy')\n",
    "Equipment_2"
   ]
  },
  {
   "cell_type": "markdown",
   "metadata": {},
   "source": [
    "Произведем расчет для сетевого устройства № 3"
   ]
  },
  {
   "cell_type": "code",
   "execution_count": 40,
   "metadata": {},
   "outputs": [
    {
     "data": {
      "text/plain": [
       "0.45454545454545453"
      ]
     },
     "execution_count": 40,
     "metadata": {},
     "output_type": "execute_result"
    }
   ],
   "source": [
    "(2000-1500)/(2600-1500)"
   ]
  },
  {
   "cell_type": "code",
   "execution_count": 41,
   "metadata": {},
   "outputs": [
    {
     "data": {
      "text/html": [
       "<div>\n",
       "<style scoped>\n",
       "    .dataframe tbody tr th:only-of-type {\n",
       "        vertical-align: middle;\n",
       "    }\n",
       "\n",
       "    .dataframe tbody tr th {\n",
       "        vertical-align: top;\n",
       "    }\n",
       "\n",
       "    .dataframe thead th {\n",
       "        text-align: right;\n",
       "    }\n",
       "</style>\n",
       "<table border=\"1\" class=\"dataframe\">\n",
       "  <thead>\n",
       "    <tr style=\"text-align: right;\">\n",
       "      <th></th>\n",
       "      <th>Y</th>\n",
       "      <th>Xt_1500</th>\n",
       "      <th>Xt_2600</th>\n",
       "      <th>Xt_1700</th>\n",
       "      <th>Xt_2000</th>\n",
       "    </tr>\n",
       "  </thead>\n",
       "  <tbody>\n",
       "    <tr>\n",
       "      <th>0</th>\n",
       "      <td>500.0</td>\n",
       "      <td>29.444363</td>\n",
       "      <td>26.090892</td>\n",
       "      <td>28.834641</td>\n",
       "      <td>27.920060</td>\n",
       "    </tr>\n",
       "    <tr>\n",
       "      <th>1</th>\n",
       "      <td>400.0</td>\n",
       "      <td>19.009871</td>\n",
       "      <td>24.409075</td>\n",
       "      <td>19.991544</td>\n",
       "      <td>21.464052</td>\n",
       "    </tr>\n",
       "  </tbody>\n",
       "</table>\n",
       "</div>"
      ],
      "text/plain": [
       "       Y    Xt_1500    Xt_2600    Xt_1700    Xt_2000\n",
       "0  500.0  29.444363  26.090892  28.834641  27.920060\n",
       "1  400.0  19.009871  24.409075  19.991544  21.464052"
      ]
     },
     "execution_count": 41,
     "metadata": {},
     "output_type": "execute_result"
    }
   ],
   "source": [
    "regressia_500_600['Xt_2000']=(regressia_500_600.Xt_2600-regressia_500_600.Xt_1500)*0.454545+regressia_500_600.Xt_1500\n",
    "regressia_2000_500_600=regressia_500_600\n",
    "regressia_2000_500_600"
   ]
  },
  {
   "cell_type": "code",
   "execution_count": 42,
   "metadata": {},
   "outputs": [
    {
     "name": "stdout",
     "output_type": "stream",
     "text": [
      "                            OLS Regression Results                            \n",
      "==============================================================================\n",
      "Dep. Variable:                      Y   R-squared:                       1.000\n",
      "Model:                            OLS   Adj. R-squared:                    nan\n",
      "Method:                 Least Squares   F-statistic:                       nan\n",
      "Date:                Thu, 18 Aug 2022   Prob (F-statistic):                nan\n",
      "Time:                        00:15:29   Log-Likelihood:                 58.159\n",
      "No. Observations:                   2   AIC:                            -112.3\n",
      "Df Residuals:                       0   BIC:                            -114.9\n",
      "Df Model:                           1                                         \n",
      "Covariance Type:            nonrobust                                         \n",
      "==============================================================================\n",
      "                 coef    std err          t      P>|t|      [0.025      0.975]\n",
      "------------------------------------------------------------------------------\n",
      "Intercept     67.5337        inf          0        nan         nan         nan\n",
      "Xt_2000       15.4894        inf          0        nan         nan         nan\n",
      "==============================================================================\n",
      "Omnibus:                          nan   Durbin-Watson:                   0.000\n",
      "Prob(Omnibus):                    nan   Jarque-Bera (JB):                0.750\n",
      "Skew:                           0.000   Prob(JB):                        0.687\n",
      "Kurtosis:                       0.000   Cond. No.                         192.\n",
      "==============================================================================\n",
      "\n",
      "Notes:\n",
      "[1] Standard Errors assume that the covariance matrix of the errors is correctly specified.\n"
     ]
    },
    {
     "name": "stderr",
     "output_type": "stream",
     "text": [
      "/opt/tljh/user/lib/python3.7/site-packages/statsmodels/stats/stattools.py:75: ValueWarning: omni_normtest is not valid with less than 8 observations; 2 samples were given.\n",
      "  \"samples were given.\" % int(n), ValueWarning)\n",
      "/opt/tljh/user/lib/python3.7/site-packages/statsmodels/regression/linear_model.py:1751: RuntimeWarning: divide by zero encountered in true_divide\n",
      "  return 1 - (np.divide(self.nobs - self.k_constant, self.df_resid)\n",
      "/opt/tljh/user/lib/python3.7/site-packages/statsmodels/regression/linear_model.py:1752: RuntimeWarning: invalid value encountered in double_scalars\n",
      "  * (1 - self.rsquared))\n",
      "/opt/tljh/user/lib/python3.7/site-packages/statsmodels/regression/linear_model.py:1673: RuntimeWarning: divide by zero encountered in double_scalars\n",
      "  return np.dot(wresid, wresid) / self.df_resid\n"
     ]
    }
   ],
   "source": [
    "#регрессия только от температуры для 2000 ГГЦ\n",
    "results=smf.ols('Y~Xt_2000',regressia_2000_500_600).fit()\n",
    "print(results.summary())"
   ]
  },
  {
   "cell_type": "markdown",
   "metadata": {},
   "source": [
    "Параметры сетевого устройства № 3 представлены ниже"
   ]
  },
  {
   "cell_type": "code",
   "execution_count": 43,
   "metadata": {},
   "outputs": [
    {
     "data": {
      "text/html": [
       "<div>\n",
       "<style scoped>\n",
       "    .dataframe tbody tr th:only-of-type {\n",
       "        vertical-align: middle;\n",
       "    }\n",
       "\n",
       "    .dataframe tbody tr th {\n",
       "        vertical-align: top;\n",
       "    }\n",
       "\n",
       "    .dataframe thead th {\n",
       "        text-align: right;\n",
       "    }\n",
       "</style>\n",
       "<table border=\"1\" class=\"dataframe\">\n",
       "  <thead>\n",
       "    <tr style=\"text-align: right;\">\n",
       "      <th></th>\n",
       "      <th>Y</th>\n",
       "      <th>Xcp</th>\n",
       "      <th>Xy</th>\n",
       "      <th>Xt_new</th>\n",
       "    </tr>\n",
       "  </thead>\n",
       "  <tbody>\n",
       "    <tr>\n",
       "      <th>0</th>\n",
       "      <td>100</td>\n",
       "      <td>2000</td>\n",
       "      <td>5.0</td>\n",
       "      <td>18.0</td>\n",
       "    </tr>\n",
       "    <tr>\n",
       "      <th>1</th>\n",
       "      <td>200</td>\n",
       "      <td>2000</td>\n",
       "      <td>12.0</td>\n",
       "      <td>18.0</td>\n",
       "    </tr>\n",
       "    <tr>\n",
       "      <th>2</th>\n",
       "      <td>300</td>\n",
       "      <td>2000</td>\n",
       "      <td>19.0</td>\n",
       "      <td>18.0</td>\n",
       "    </tr>\n",
       "    <tr>\n",
       "      <th>3</th>\n",
       "      <td>400</td>\n",
       "      <td>2000</td>\n",
       "      <td>26.0</td>\n",
       "      <td>21.0</td>\n",
       "    </tr>\n",
       "    <tr>\n",
       "      <th>4</th>\n",
       "      <td>500</td>\n",
       "      <td>2000</td>\n",
       "      <td>33.0</td>\n",
       "      <td>28.0</td>\n",
       "    </tr>\n",
       "    <tr>\n",
       "      <th>5</th>\n",
       "      <td>600</td>\n",
       "      <td>2000</td>\n",
       "      <td>40.0</td>\n",
       "      <td>34.0</td>\n",
       "    </tr>\n",
       "    <tr>\n",
       "      <th>6</th>\n",
       "      <td>700</td>\n",
       "      <td>2000</td>\n",
       "      <td>48.0</td>\n",
       "      <td>41.0</td>\n",
       "    </tr>\n",
       "    <tr>\n",
       "      <th>7</th>\n",
       "      <td>800</td>\n",
       "      <td>2000</td>\n",
       "      <td>55.0</td>\n",
       "      <td>47.0</td>\n",
       "    </tr>\n",
       "    <tr>\n",
       "      <th>8</th>\n",
       "      <td>900</td>\n",
       "      <td>2000</td>\n",
       "      <td>62.0</td>\n",
       "      <td>54.0</td>\n",
       "    </tr>\n",
       "  </tbody>\n",
       "</table>\n",
       "</div>"
      ],
      "text/plain": [
       "     Y   Xcp    Xy  Xt_new\n",
       "0  100  2000   5.0    18.0\n",
       "1  200  2000  12.0    18.0\n",
       "2  300  2000  19.0    18.0\n",
       "3  400  2000  26.0    21.0\n",
       "4  500  2000  33.0    28.0\n",
       "5  600  2000  40.0    34.0\n",
       "6  700  2000  48.0    41.0\n",
       "7  800  2000  55.0    47.0\n",
       "8  900  2000  62.0    54.0"
      ]
     },
     "execution_count": 43,
     "metadata": {},
     "output_type": "execute_result"
    }
   ],
   "source": [
    "Equipment_3 = pd.DataFrame({\n",
    "    'Y':[100,200,300,400,500, 600,700, 800, 900],\\\n",
    "    'Xcp':[2000,2000,2000,2000, 2000, 2000,2000,2000,2000]})\n",
    "Equipment_3['Xy'] = ((Equipment_3.Y + 583.6364 - 0.3091 * Equipment_3.Xcp) / 14)\n",
    "Equipment_3['Xt']=(Equipment_3.Y - 67.5337) / 15.4894\n",
    "Xt_new=[]\n",
    "for i in Equipment_3.Xt:\n",
    "    if i <= 18:\n",
    "        Xt_new.append(18)\n",
    "    else:\n",
    "        Xt_new.append(i)\n",
    "Xt_new\n",
    "Equipment_3['Xt_new']=Xt_new\n",
    "Equipment_3=Equipment_3.round(0)\n",
    "Equipment_3=Equipment_3.drop(axis=1, labels='Xt')\n",
    "Equipment_3"
   ]
  },
  {
   "cell_type": "markdown",
   "metadata": {},
   "source": [
    "Параметры сетевого устройства № 4 представлены ниже"
   ]
  },
  {
   "cell_type": "code",
   "execution_count": 46,
   "metadata": {},
   "outputs": [
    {
     "data": {
      "text/plain": [
       "(100, 200, 300, 400, 500, 600, 700, 800, 900)"
      ]
     },
     "execution_count": 46,
     "metadata": {},
     "output_type": "execute_result"
    }
   ],
   "source": [
    "Y=(100, 200, 300, 400, 500, 600, 700, 800, 900)\n",
    "Y"
   ]
  },
  {
   "cell_type": "code",
   "execution_count": 47,
   "metadata": {},
   "outputs": [
    {
     "data": {
      "text/html": [
       "<div>\n",
       "<style scoped>\n",
       "    .dataframe tbody tr th:only-of-type {\n",
       "        vertical-align: middle;\n",
       "    }\n",
       "\n",
       "    .dataframe tbody tr th {\n",
       "        vertical-align: top;\n",
       "    }\n",
       "\n",
       "    .dataframe thead th {\n",
       "        text-align: right;\n",
       "    }\n",
       "</style>\n",
       "<table border=\"1\" class=\"dataframe\">\n",
       "  <thead>\n",
       "    <tr style=\"text-align: right;\">\n",
       "      <th></th>\n",
       "      <th>Y</th>\n",
       "      <th>Xcp</th>\n",
       "      <th>Xy</th>\n",
       "    </tr>\n",
       "  </thead>\n",
       "  <tbody>\n",
       "    <tr>\n",
       "      <th>0</th>\n",
       "      <td>100.0</td>\n",
       "      <td>1700.0</td>\n",
       "      <td>11.297600</td>\n",
       "    </tr>\n",
       "    <tr>\n",
       "      <th>1</th>\n",
       "      <td>200.0</td>\n",
       "      <td>1700.0</td>\n",
       "      <td>18.440457</td>\n",
       "    </tr>\n",
       "    <tr>\n",
       "      <th>2</th>\n",
       "      <td>300.0</td>\n",
       "      <td>1700.0</td>\n",
       "      <td>25.583314</td>\n",
       "    </tr>\n",
       "    <tr>\n",
       "      <th>3</th>\n",
       "      <td>400.0</td>\n",
       "      <td>1700.0</td>\n",
       "      <td>32.726171</td>\n",
       "    </tr>\n",
       "    <tr>\n",
       "      <th>4</th>\n",
       "      <td>500.0</td>\n",
       "      <td>1700.0</td>\n",
       "      <td>39.869029</td>\n",
       "    </tr>\n",
       "    <tr>\n",
       "      <th>5</th>\n",
       "      <td>600.0</td>\n",
       "      <td>1700.0</td>\n",
       "      <td>47.011886</td>\n",
       "    </tr>\n",
       "    <tr>\n",
       "      <th>6</th>\n",
       "      <td>700.0</td>\n",
       "      <td>1700.0</td>\n",
       "      <td>54.154743</td>\n",
       "    </tr>\n",
       "    <tr>\n",
       "      <th>7</th>\n",
       "      <td>800.0</td>\n",
       "      <td>1700.0</td>\n",
       "      <td>61.297600</td>\n",
       "    </tr>\n",
       "    <tr>\n",
       "      <th>8</th>\n",
       "      <td>900.0</td>\n",
       "      <td>1700.0</td>\n",
       "      <td>68.440457</td>\n",
       "    </tr>\n",
       "  </tbody>\n",
       "</table>\n",
       "</div>"
      ],
      "text/plain": [
       "       Y     Xcp         Xy\n",
       "0  100.0  1700.0  11.297600\n",
       "1  200.0  1700.0  18.440457\n",
       "2  300.0  1700.0  25.583314\n",
       "3  400.0  1700.0  32.726171\n",
       "4  500.0  1700.0  39.869029\n",
       "5  600.0  1700.0  47.011886\n",
       "6  700.0  1700.0  54.154743\n",
       "7  800.0  1700.0  61.297600\n",
       "8  900.0  1700.0  68.440457"
      ]
     },
     "execution_count": 47,
     "metadata": {},
     "output_type": "execute_result"
    }
   ],
   "source": [
    "Equipment_4 = pd.DataFrame(columns = ['Y','Xcp','Xy'])\n",
    "for i in Y:\n",
    "    Xy=(i - 0.3091*1700-(-583.6364) )/14\n",
    "    Equipment_4 = Equipment_4.append({'Xy':Xy,'Xcp':1700,'Y':i}, ignore_index=True)\n",
    "Equipment_4"
   ]
  },
  {
   "cell_type": "code",
   "execution_count": 50,
   "metadata": {},
   "outputs": [
    {
     "data": {
      "text/html": [
       "<div>\n",
       "<style scoped>\n",
       "    .dataframe tbody tr th:only-of-type {\n",
       "        vertical-align: middle;\n",
       "    }\n",
       "\n",
       "    .dataframe tbody tr th {\n",
       "        vertical-align: top;\n",
       "    }\n",
       "\n",
       "    .dataframe thead th {\n",
       "        text-align: right;\n",
       "    }\n",
       "</style>\n",
       "<table border=\"1\" class=\"dataframe\">\n",
       "  <thead>\n",
       "    <tr style=\"text-align: right;\">\n",
       "      <th></th>\n",
       "      <th>Y</th>\n",
       "      <th>Xcp</th>\n",
       "      <th>Xy</th>\n",
       "      <th>Xt_new</th>\n",
       "    </tr>\n",
       "  </thead>\n",
       "  <tbody>\n",
       "    <tr>\n",
       "      <th>0</th>\n",
       "      <td>100.0</td>\n",
       "      <td>1700.0</td>\n",
       "      <td>11.0</td>\n",
       "      <td>18.0</td>\n",
       "    </tr>\n",
       "    <tr>\n",
       "      <th>1</th>\n",
       "      <td>200.0</td>\n",
       "      <td>1700.0</td>\n",
       "      <td>18.0</td>\n",
       "      <td>18.0</td>\n",
       "    </tr>\n",
       "    <tr>\n",
       "      <th>2</th>\n",
       "      <td>300.0</td>\n",
       "      <td>1700.0</td>\n",
       "      <td>26.0</td>\n",
       "      <td>18.0</td>\n",
       "    </tr>\n",
       "    <tr>\n",
       "      <th>3</th>\n",
       "      <td>400.0</td>\n",
       "      <td>1700.0</td>\n",
       "      <td>33.0</td>\n",
       "      <td>20.0</td>\n",
       "    </tr>\n",
       "    <tr>\n",
       "      <th>4</th>\n",
       "      <td>500.0</td>\n",
       "      <td>1700.0</td>\n",
       "      <td>40.0</td>\n",
       "      <td>29.0</td>\n",
       "    </tr>\n",
       "    <tr>\n",
       "      <th>5</th>\n",
       "      <td>600.0</td>\n",
       "      <td>1700.0</td>\n",
       "      <td>47.0</td>\n",
       "      <td>38.0</td>\n",
       "    </tr>\n",
       "    <tr>\n",
       "      <th>6</th>\n",
       "      <td>700.0</td>\n",
       "      <td>1700.0</td>\n",
       "      <td>54.0</td>\n",
       "      <td>47.0</td>\n",
       "    </tr>\n",
       "    <tr>\n",
       "      <th>7</th>\n",
       "      <td>800.0</td>\n",
       "      <td>1700.0</td>\n",
       "      <td>61.0</td>\n",
       "      <td>55.0</td>\n",
       "    </tr>\n",
       "  </tbody>\n",
       "</table>\n",
       "</div>"
      ],
      "text/plain": [
       "       Y     Xcp    Xy  Xt_new\n",
       "0  100.0  1700.0  11.0    18.0\n",
       "1  200.0  1700.0  18.0    18.0\n",
       "2  300.0  1700.0  26.0    18.0\n",
       "3  400.0  1700.0  33.0    20.0\n",
       "4  500.0  1700.0  40.0    29.0\n",
       "5  600.0  1700.0  47.0    38.0\n",
       "6  700.0  1700.0  54.0    47.0\n",
       "7  800.0  1700.0  61.0    55.0"
      ]
     },
     "execution_count": 50,
     "metadata": {},
     "output_type": "execute_result"
    }
   ],
   "source": [
    "Equipment_4['Xt']=(Equipment_4.Y-173.9305)/11.3083\n",
    "Xt_new=[]\n",
    "for i in Equipment_4.Xt:\n",
    "    if i <= 18:\n",
    "        Xt_new.append(18)\n",
    "    else:\n",
    "        Xt_new.append(i)\n",
    "Xt_new\n",
    "Equipment_4['Xt_new']=Xt_new\n",
    "Equipment_4=Equipment_4.round(0)\n",
    "Equipment_4=Equipment_4.drop(axis=1, labels='Xt')\n",
    "Equipment_4=Equipment_4.drop(axis=0, index=8)\n",
    "Equipment_4"
   ]
  },
  {
   "cell_type": "markdown",
   "metadata": {},
   "source": [
    "Цели: \n",
    "\n",
    "1). Выявить влияние нагрузки на аппаратные ресурсы.\n",
    "\n",
    "2). Получить подтверждение, что система удовлетворяет предъявляемым требованиям производительности и максимальной производительности.\n",
    "\n",
    "\n",
    "Определения терминов:\n",
    "\n",
    "Метод измерения производительности – описание целей, условий, требований, алгоритма, необходимых для верного выявления параметров объекта и корректного представления полученных результатов.\n",
    "\n",
    "Методика нагрузочного тестирования – порядок действий для проверки соответствия параметров устройства предъявляемым требованиям, рассчитываемым заранее для каждой степени загруженности устройства.\n",
    "\n",
    "\n",
    "Аппараты:\n",
    "\n",
    "- Компьютер (ПК);\n",
    "- Windows 10 (7);\n",
    "- Датчик температуры;\n",
    "- Плата Arduino Uno с ПО Arduino;\n",
    "- Соединительные провода;\n",
    "- Провод USB 2.0 (А-В);\n",
    "- Интернет, подключенный к ПК;\n",
    "- Плата для бессварочного соединения проводов.\n",
    "\n",
    "Условия:\n",
    "\n",
    "Необходимые условия:\n",
    "\n",
    "- Человек-исполнитель;\n",
    "- Компьютер;\n",
    "- Испытываемые сетевые устройства;\n",
    "- Теоретически рассчитанные параметры сетевого устройства.\n",
    "\n",
    "Достаточные условия:\n",
    "\n",
    "- Наличие плана;\n",
    "- Наличие платы Arduino Uno;\n",
    "- Наличие операционной системы Windows 10;\n",
    "- Наличие комплекта проводов;\n",
    "- Наличие платы для бессварочного соединения проводов;\n",
    "- Наличие датчика температуры;\n",
    "- Наличие ПО Iperf, и Arduino;\n",
    "- Написанная программа на C++ для Arduino UNO;\n",
    "- Наличие отчета, подтверждающего выполнение задач.\n",
    "\n",
    "Требования для каждого сетевого устройства:\n",
    "\n",
    "Требования представлены в таблицах перед описанием метода. По этим таблицам необходимо сравнивать измеренные в ходе эксперемента значения утилизации ЦП, температуры ЦП и UDP Throughput. При этом значение утилизации ЦП должно быть не выше 80%, температуры ЦП не выше 60 градусов Цельсия, и UDP Throughput не менее 900 Мбит/с.\n",
    "\n",
    "Исходя из требований видно, что устройства № 1 и № 4 не подходят под требования. Это должно быть получено и при экспериментах.\n",
    "\n",
    "Алгоритм действия (методика):\n",
    "\n",
    "1.\tС помощью термопасты установить датчик температуры на плату сетевого устройства;\n",
    "\n",
    "2.\tПрисоединить проводами датчик температуры к плате для бессварочного соединения. Затем плату соединить с микроконтроллером Arduino UNO, который подключить с помощью USB 2.0 (А-В) к компьютеру;\n",
    "\n",
    "3.\tНаписать программу для Arduino UNO на языке C++ для считывания аналоговых сигналов с датчика температуры и перевода аналогового сигнала в цифровой код;\n",
    "\n",
    "4.\tВключить ПК. Скачать утилиту Iperf и запустить ее;\n",
    "\n",
    "5.\tОткрыть ПО Arduino. Запустить написанную программу. В окне исполнителя кода должно появиться текущее значение температуры в градусах Цельсия, соответствующее температуре в помещении, где производится исследование.\n",
    "\n",
    "6.\tЗайти в YouTube. Найти длинное видео с длительностью 10 часов. Скопировать URL видео. Вставить URL в поле поиска в браузере, добавив «ss» после «https://». Начнётся скачивание видео. \n",
    "\n",
    "7.\tЗа время скачивания нужно произвести измерения параметров работы сетевого устройства. Для этого нужно открыть диспетчер задач (Ctrl + Alt + Delete), затем нажать «Диспетчер задач», зайти во вкладку «Производительность» и отслеживать параметр «Использование» в процентах. Именно этот параметр соответствует параметру «Утилизация ЦП, %».\n",
    "\n",
    "8.\tКроме того, во время скачивания нужно произвести измерения UDP Throughput. Для этого зайти с помощью клавиш Win + R в командное окно и вызвать команду: «gpedit.msc». В появившемся окне открыть вкладку «Административные шаблоны».  Затем развернуть папку «Сеть» и далее «Планировщик пакетов QoS». Далее открыть «Ограничить резервируемую пропускную способность». В появившемся окне выставить настройку: «Включено» и прописать в строке «Ограничение пропускной способности (%) число 95%. Для дальнейших значений пропускной способности при других значениях нагрузки уменьшать процент ограничителя, выставляя меньшие числа при большей нагрузке.\n",
    "\n",
    "9.\tТакже, во время скачивания файла нужно зафиксировать показания датчика температуры. Для этого нужно в ПО Arduino зафиксировать значение температуры спустя 2 минуты после изменения пропускной способности в пункте 8). \n",
    "\n",
    "10.\tПункты 7, 8, 9 повторять для каждого значения таблицы требований и для каждого сетевого устройства.\n",
    "\n",
    "\n",
    "После выполнения алгоритма нужно произвести анализ полученных результатов и рассчитать то, насколько отличаются полученные в ходе замеров значения от теоретических. Пдопустимый интервал погрешности +-15%. \n",
    "\n",
    "\n",
    "В конце работы делается выод о том как влияет нагрузка на аппаратные ресурсы. Также нужно указать удовлетворяет ли каждое сетевое устройство предъявляемым требованиям производительности и максимальной производительности.\n"
   ]
  }
 ],
 "metadata": {
  "kernelspec": {
   "display_name": "Python 3",
   "language": "python",
   "name": "python3"
  },
  "language_info": {
   "codemirror_mode": {
    "name": "ipython",
    "version": 3
   },
   "file_extension": ".py",
   "mimetype": "text/x-python",
   "name": "python",
   "nbconvert_exporter": "python",
   "pygments_lexer": "ipython3",
   "version": "3.7.3"
  }
 },
 "nbformat": 4,
 "nbformat_minor": 4
}
